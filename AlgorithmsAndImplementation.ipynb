{
  "nbformat": 4,
  "nbformat_minor": 0,
  "metadata": {
    "colab": {
      "provenance": [],
      "authorship_tag": "ABX9TyM0aT/fZ79xo5fjNJ0ZDwr6",
      "include_colab_link": true
    },
    "kernelspec": {
      "name": "python3",
      "display_name": "Python 3"
    },
    "language_info": {
      "name": "python"
    }
  },
  "cells": [
    {
      "cell_type": "markdown",
      "metadata": {
        "id": "view-in-github",
        "colab_type": "text"
      },
      "source": [
        "<a href=\"https://colab.research.google.com/github/KASHYAPCHETAN438/DSA/blob/main/AlgorithmsAndImplementation.ipynb\" target=\"_parent\"><img src=\"https://colab.research.google.com/assets/colab-badge.svg\" alt=\"Open In Colab\"/></a>"
      ]
    },
    {
      "cell_type": "markdown",
      "source": [
        "# Sample of Algorithms and Implementation\n",
        "\n",
        "01. Even or Odd\n",
        "02. Max of two numbers\n",
        "03. Min of two numbers\n",
        "04. Max of three numbers\n",
        "05. Min of three numbers\n",
        "06. Max of four numbers\n",
        "07. Min of four numbers\n",
        "08. Max of five numbers\n",
        "09. Min of five numbers\n",
        "10. Swaping of two integer values\n",
        "11. Absolute value\n",
        "12. Sum of n natural numbers\n",
        "13. Factorial of given number\n",
        "14. Digits Extraction\n",
        "15. Count digits\n",
        "16. Reverse a number\n",
        "17. Paliandrome number\n",
        "18. Trailing Zeros of factorial\n",
        "19. x to the power y\n",
        "20. Sum of digits\n",
        "21. Sum of even digits\n",
        "22. Sum of odd digits\n",
        "23. Sum of prime digits\n",
        "24. Prime Number or Not\n",
        "25. All divisors of N\n",
        "26. Perfect Number\n",
        "27. armstrong number\n",
        "28. strong number\n",
        "29. Fib sequence\n",
        "30. Trib Sequence\n"
      ],
      "metadata": {
        "id": "xZTQdDlse9p-"
      }
    },
    {
      "cell_type": "markdown",
      "source": [
        "--------\n",
        "\n",
        "## Problem Statement -01\n",
        "\n",
        "### Write a program to check whether a given number is Even or Odd.  \n",
        "\n",
        "### Example  \n",
        "\n",
        "For number 7:  \n",
        "- 7 % 2 = 1 → Odd  \n",
        "\n",
        "Final output → Odd  \n",
        "\n",
        "### Algorithm  \n",
        "\n",
        "\n",
        "1. Start  \n",
        "2. Read a number `n` from the user  \n",
        "3. Check if `n % 2 == 0`  \n",
        "   - If yes → Print \"Even\"  \n",
        "   - Else → Print \"Odd\"  \n",
        "4. End  \n",
        "  \n"
      ],
      "metadata": {
        "id": "guZscxrLfXsg"
      }
    },
    {
      "cell_type": "code",
      "execution_count": null,
      "metadata": {
        "id": "OidcSU8he6aK",
        "colab": {
          "base_uri": "https://localhost:8080/"
        },
        "outputId": "61d28b01-36d6-4323-ff8f-27c84625273a"
      },
      "outputs": [
        {
          "output_type": "stream",
          "name": "stdout",
          "text": [
            "Enter the number7\n",
            "7 is odd\n"
          ]
        }
      ],
      "source": [
        "num=int(input(\"Enter the number\"))\n",
        "if num%2==0:\n",
        "  print(num,\"is even\")\n",
        "else:\n",
        "  print(num,\"is odd\")"
      ]
    },
    {
      "cell_type": "markdown",
      "source": [
        "\n",
        "------\n",
        "\n",
        "## Problem Statement -02\n",
        "\n",
        "### Write a program to find the maximum of two numbers.  \n",
        "\n",
        "### Example  \n",
        "\n",
        "For numbers 10 and 20:  \n",
        "- Max(10, 20) = 20  \n",
        "\n",
        "Final output → 20  \n",
        "\n",
        "### Algorithm  \n",
        "\n",
        "1. Start  \n",
        "2. Read two numbers `a` and `b` from the user  \n",
        "3. Compare `a` and `b`  \n",
        "   - If `a > b` → Print `a` as maximum  \n",
        "   - Else → Print `b` as maximum  \n",
        "4. End  \n"
      ],
      "metadata": {
        "id": "8ei26mM1faVy"
      }
    },
    {
      "cell_type": "code",
      "source": [
        "# Problem 02: Max of two numbers\n",
        "a = int(input(\"Enter first number: \"))\n",
        "b = int(input(\"Enter second number: \"))\n",
        "\n",
        "if a > b:\n",
        "    print(f\"Maximum = {a}\")\n",
        "else:\n",
        "    print(f\"Maximum = {b}\")\n"
      ],
      "metadata": {
        "id": "To9mZgoTfala",
        "colab": {
          "base_uri": "https://localhost:8080/"
        },
        "outputId": "331df065-22f9-4601-9420-2449959a8021"
      },
      "execution_count": null,
      "outputs": [
        {
          "output_type": "stream",
          "name": "stdout",
          "text": [
            "Enter first number: 10\n",
            "Enter second number: 2\n",
            "Maximum = 10\n"
          ]
        }
      ]
    },
    {
      "cell_type": "markdown",
      "source": [
        "-------\n",
        "## Problem Statement -03\n",
        "\n",
        "### Write a program to find the minimum of two numbers.  \n",
        "\n",
        "### Example  \n",
        "\n",
        "For numbers 10 and 20:  \n",
        "- Min(10, 20) = 10  \n",
        "\n",
        "Final output → 10  \n",
        "\n",
        "### Algorithm  \n",
        "\n",
        "1. Start  \n",
        "2. Read two numbers `a` and `b` from the user  \n",
        "3. Compare `a` and `b`  \n",
        "   - If `a < b` → Print `a` as minimum  \n",
        "   - Else → Print `b` as minimum  \n",
        "4. End  \n"
      ],
      "metadata": {
        "id": "FmXlskGYfayQ"
      }
    },
    {
      "cell_type": "code",
      "source": [
        "# Problem 03: Min of two numbers\n",
        "a = int(input(\"Enter first number: \"))\n",
        "b = int(input(\"Enter second number: \"))\n",
        "\n",
        "if a < b:\n",
        "    print(f\"Minimum = {a}\")\n",
        "else:\n",
        "    print(f\"Minimum = {b}\")\n"
      ],
      "metadata": {
        "id": "CpzVOjXVggmJ",
        "colab": {
          "base_uri": "https://localhost:8080/"
        },
        "outputId": "f796c6b8-dcd1-4899-c0ab-7aba990e7c2c"
      },
      "execution_count": null,
      "outputs": [
        {
          "output_type": "stream",
          "name": "stdout",
          "text": [
            "Enter first number: 4\n",
            "Enter second number: 8\n",
            "Minimum = 4\n"
          ]
        }
      ]
    },
    {
      "cell_type": "markdown",
      "source": [
        "------\n",
        "\n",
        "## Problem Statement -04\n",
        "\n",
        "### Write a program to find the maximum of three numbers.  \n",
        "\n",
        "### Example  \n",
        "\n",
        "For numbers 10, 25, 15:  \n",
        "- Max(10, 25, 15) = 25  \n",
        "\n",
        "Final output → 25  \n",
        "\n",
        "### Algorithm  \n",
        "\n",
        "1. Start  \n",
        "2. Read three numbers `a`, `b`, `c` from the user  \n",
        "3. Compare `a`, `b`, and `c`  \n",
        "   - If `a > b` and `a > c` → Print `a` as maximum  \n",
        "   - Else if `b > a` and `b > c` → Print `b` as maximum  \n",
        "   - Else → Print `c` as maximum  \n",
        "4. End  \n"
      ],
      "metadata": {
        "id": "WyR0IGbvfbKM"
      }
    },
    {
      "cell_type": "code",
      "source": [
        "# Problem 04: Max of three numbers\n",
        "a = int(input(\"Enter first number: \"))\n",
        "b = int(input(\"Enter second number: \"))\n",
        "c = int(input(\"Enter third number: \"))\n",
        "\n",
        "max_val = a\n",
        "if b > max_val:\n",
        "    max_val = b\n",
        "if c > max_val:\n",
        "    max_val = c\n",
        "\n",
        "print(f\"Maximum = {max_val}\")\n"
      ],
      "metadata": {
        "id": "F1l2B8t7fbW5",
        "colab": {
          "base_uri": "https://localhost:8080/"
        },
        "outputId": "72bb432d-d698-452d-c627-ee455c081d72"
      },
      "execution_count": null,
      "outputs": [
        {
          "output_type": "stream",
          "name": "stdout",
          "text": [
            "Enter first number: 4\n",
            "Enter second number: 8\n",
            "Enter third number: 1\n",
            "Maximum = 8\n"
          ]
        }
      ]
    },
    {
      "cell_type": "markdown",
      "source": [
        "----\n",
        "\n",
        "## Problem Statement -05\n",
        "\n",
        "### Write a program to find the minimum of three numbers.  \n",
        "\n",
        "### Example  \n",
        "\n",
        "For numbers 10, 25, 15:  \n",
        "- Min(10, 25, 15) = 10  \n",
        "\n",
        "Final output → 10  \n",
        "\n",
        "### Algorithm  \n",
        "\n",
        "1. Start  \n",
        "2. Read three numbers `a`, `b`, `c` from the user  \n",
        "3. Compare `a`, `b`, and `c`  \n",
        "   - If `a < b` and `a < c` → Print `a` as minimum  \n",
        "   - Else if `b < a` and `b < c` → Print `b` as minimum  \n",
        "   - Else → Print `c` as minimum  \n",
        "4. End  \n"
      ],
      "metadata": {
        "id": "y0PHqb8kfbiG"
      }
    },
    {
      "cell_type": "code",
      "source": [
        "# Problem 05: Min of three numbers\n",
        "a = int(input(\"Enter first number: \"))\n",
        "b = int(input(\"Enter second number: \"))\n",
        "c = int(input(\"Enter third number: \"))\n",
        "\n",
        "min_val = a\n",
        "if b < min_val:\n",
        "    min_val = b\n",
        "if c < min_val:\n",
        "    min_val = c\n",
        "\n",
        "print(f\"Minimum = {min_val}\")\n"
      ],
      "metadata": {
        "id": "XNnhZBHofbtT",
        "colab": {
          "base_uri": "https://localhost:8080/"
        },
        "outputId": "f309a884-10a0-4470-cc2c-7b9f9621d4f5"
      },
      "execution_count": null,
      "outputs": [
        {
          "output_type": "stream",
          "name": "stdout",
          "text": [
            "Enter first number: 6\n",
            "Enter second number: 8\n",
            "Enter third number: 120\n",
            "Minimum = 6\n"
          ]
        }
      ]
    },
    {
      "cell_type": "markdown",
      "source": [
        "-----\n",
        "\n",
        "## Problem Statement -06\n",
        "\n",
        "### Write a program to find the maximum of four numbers.  \n",
        "\n",
        "### Example  \n",
        "\n",
        "For numbers 12, 7, 19, 3:  \n",
        "- Max(12, 7, 19, 3) = 19  \n",
        "\n",
        "Final output → 19  \n",
        "\n",
        "### Algorithm  \n",
        "\n",
        "1. Start  \n",
        "2. Read four numbers `a`, `b`, `c`, `d` from the user  \n",
        "3. Initialize `max = a`  \n",
        "4. Compare `max` with `b`, `c`, `d` one by one  \n",
        "   - If any number is greater than `max`, update `max`  \n",
        "5. Print `max` as maximum  \n",
        "6. End  \n"
      ],
      "metadata": {
        "id": "x8QhxdXHfb4i"
      }
    },
    {
      "cell_type": "code",
      "source": [
        "# Problem 06: Max of four numbers\n",
        "a = int(input(\"Enter first number: \"))\n",
        "b = int(input(\"Enter second number: \"))\n",
        "c = int(input(\"Enter third number: \"))\n",
        "d = int(input(\"Enter fourth number: \"))\n",
        "\n",
        "max_val = a\n",
        "for num in [b, c, d]:\n",
        "    if num > max_val:\n",
        "        max_val = num\n",
        "\n",
        "print(f\"Maximum = {max_val}\")\n"
      ],
      "metadata": {
        "id": "DP8eg3_0fcFV",
        "colab": {
          "base_uri": "https://localhost:8080/"
        },
        "outputId": "291aa250-58a6-4c6f-d63d-518240104386"
      },
      "execution_count": null,
      "outputs": [
        {
          "output_type": "stream",
          "name": "stdout",
          "text": [
            "Enter first number: 78\n",
            "Enter second number: 95\n",
            "Enter third number: 15\n",
            "Enter fourth number: 20\n",
            "Maximum = 95\n"
          ]
        }
      ]
    },
    {
      "cell_type": "markdown",
      "source": [
        "----\n",
        "\n",
        "## Problem Statement -07\n",
        "\n",
        "### Write a program to find the minimum of four numbers.  \n",
        "\n",
        "### Example  \n",
        "\n",
        "For numbers 12, 7, 19, 3:  \n",
        "- Min(12, 7, 19, 3) = 3  \n",
        "\n",
        "Final output → 3  \n",
        "\n",
        "### Algorithm  \n",
        "\n",
        "1. Start  \n",
        "2. Read four numbers `a`, `b`, `c`, `d` from the user  \n",
        "3. Initialize `min = a`  \n",
        "4. Compare `min` with `b`, `c`, `d` one by one  \n",
        "   - If any number is smaller than `min`, update `min`  \n",
        "5. Print `min` as minimum  \n",
        "6. End  \n"
      ],
      "metadata": {
        "id": "Xel78I-ZfcP_"
      }
    },
    {
      "cell_type": "code",
      "source": [
        "# Problem 07: Min of four numbers\n",
        "a = int(input(\"Enter first number: \"))\n",
        "b = int(input(\"Enter second number: \"))\n",
        "c = int(input(\"Enter third number: \"))\n",
        "d = int(input(\"Enter fourth number: \"))\n",
        "\n",
        "min_val = a\n",
        "for num in [b, c, d]:\n",
        "    if num < min_val:\n",
        "        min_val = num\n",
        "\n",
        "print(f\"Minimum = {min_val}\")\n"
      ],
      "metadata": {
        "id": "cNSsf3g-fccK",
        "colab": {
          "base_uri": "https://localhost:8080/"
        },
        "outputId": "e47edbdd-ad8e-4b02-c867-10743c4ca7f7"
      },
      "execution_count": null,
      "outputs": [
        {
          "output_type": "stream",
          "name": "stdout",
          "text": [
            "Enter first number: 78\n",
            "Enter second number: 52\n",
            "Enter third number: 26\n",
            "Enter fourth number: 14\n",
            "Minimum = 14\n"
          ]
        }
      ]
    },
    {
      "cell_type": "markdown",
      "source": [
        "-----\n",
        "## Problem Statement -08\n",
        "\n",
        "### Write a program to find the maximum of five numbers.  \n",
        "\n",
        "### Example  \n",
        "\n",
        "For numbers 4, 18, 9, 23, 11:  \n",
        "- Max(4, 18, 9, 23, 11) = 23  \n",
        "\n",
        "Final output → 23  \n",
        "\n",
        "### Algorithm  \n",
        "\n",
        "1. Start  \n",
        "2. Read five numbers `a`, `b`, `c`, `d`, `e` from the user  \n",
        "3. Initialize `max = a`  \n",
        "4. Compare `max` with `b`, `c`, `d`, `e` one by one  \n",
        "   - If any number is greater than `max`, update `max`  \n",
        "5. Print `max` as maximum  \n",
        "6. End  \n"
      ],
      "metadata": {
        "id": "ndiyEpEGfcml"
      }
    },
    {
      "cell_type": "code",
      "source": [
        "# Problem 08: Max of five numbers\n",
        "a = int(input(\"Enter first number: \"))\n",
        "b = int(input(\"Enter second number: \"))\n",
        "c = int(input(\"Enter third number: \"))\n",
        "d = int(input(\"Enter fourth number: \"))\n",
        "e = int(input(\"Enter fifth number: \"))\n",
        "\n",
        "max_val = a\n",
        "for num in [b, c, d, e]:\n",
        "    if num > max_val:\n",
        "        max_val = num\n",
        "\n",
        "print(f\"Maximum = {max_val}\")\n"
      ],
      "metadata": {
        "id": "LJhR_o-MfcyC",
        "colab": {
          "base_uri": "https://localhost:8080/"
        },
        "outputId": "67c70935-b361-40d5-c5d9-e5362de0ce4b"
      },
      "execution_count": null,
      "outputs": [
        {
          "output_type": "stream",
          "name": "stdout",
          "text": [
            "Enter first number: 24\n",
            "Enter second number: 65\n",
            "Enter third number: 78\n",
            "Enter fourth number: 25\n",
            "Enter fifth number: 45\n",
            "Maximum = 78\n"
          ]
        }
      ]
    },
    {
      "cell_type": "markdown",
      "source": [
        "------\n",
        "## Problem Statement -09\n",
        "\n",
        "### Write a program to find the minimum of five numbers.  \n",
        "\n",
        "### Example  \n",
        "\n",
        "For numbers 4, 18, 9, 23, 11:  \n",
        "- Min(4, 18, 9, 23, 11) = 4  \n",
        "\n",
        "Final output → 4  \n",
        "\n",
        "### Algorithm  \n",
        "\n",
        "1. Start  \n",
        "2. Read five numbers `a`, `b`, `c`, `d`, `e` from the user  \n",
        "3. Initialize `min = a`  \n",
        "4. Compare `min` with `b`, `c`, `d`, `e` one by one  \n",
        "   - If any number is smaller than `min`, update `min`  \n",
        "5. Print `min` as minimum  \n",
        "6. End  \n"
      ],
      "metadata": {
        "id": "cGMN2PEHfc8R"
      }
    },
    {
      "cell_type": "code",
      "source": [
        "# Problem 09: Min of five numbers\n",
        "a = int(input(\"Enter first number: \"))\n",
        "b = int(input(\"Enter second number: \"))\n",
        "c = int(input(\"Enter third number: \"))\n",
        "d = int(input(\"Enter fourth number: \"))\n",
        "e = int(input(\"Enter fifth number: \"))\n",
        "\n",
        "min_val = a\n",
        "for num in [b, c, d, e]:\n",
        "    if num < min_val:\n",
        "        min_val = num\n",
        "\n",
        "print(f\"Minimum = {min_val}\")\n"
      ],
      "metadata": {
        "id": "b5ubdK58fdH0",
        "colab": {
          "base_uri": "https://localhost:8080/"
        },
        "outputId": "8511b7a8-b255-4990-830b-28a5b9d0bdbd"
      },
      "execution_count": null,
      "outputs": [
        {
          "output_type": "stream",
          "name": "stdout",
          "text": [
            "Enter first number: 32\n",
            "Enter second number: 69\n",
            "Enter third number: 75\n",
            "Enter fourth number: 25\n",
            "Enter fifth number: 259\n",
            "Minimum = 25\n"
          ]
        }
      ]
    },
    {
      "cell_type": "markdown",
      "source": [
        "--------\n",
        "## Problem Statement -10\n",
        "\n",
        "### Write a program to swap two integer values.  \n",
        "\n",
        "### Example  \n",
        "\n",
        "For values a = 5, b = 7:  \n",
        "- After swap: a = 7, b = 5  \n",
        "\n",
        "Final output → a = 7, b = 5  \n",
        "\n",
        "### Algorithm  \n",
        "\n",
        "1. Start  \n",
        "2. Read two integers `a` and `b` from the user  \n",
        "3. Use a temporary variable `temp`  \n",
        "   - `temp = a`  \n",
        "   - `a = b`  \n",
        "   - `b = temp`  \n",
        "4. Print `a` and `b` after swapping  \n",
        "5. End  \n"
      ],
      "metadata": {
        "id": "rdjCETZIfdoN"
      }
    },
    {
      "cell_type": "code",
      "source": [
        "a,b=5,7\n",
        "temp=a\n",
        "a=b\n",
        "b=temp\n",
        "print(f\"Value of a is : {a} \\nValue of b is :{b}\")"
      ],
      "metadata": {
        "id": "ZaAgIEfvfdyn",
        "colab": {
          "base_uri": "https://localhost:8080/"
        },
        "outputId": "45e174f1-9a7b-4e7f-a062-f1f8110323ab"
      },
      "execution_count": null,
      "outputs": [
        {
          "output_type": "stream",
          "name": "stdout",
          "text": [
            "Value of a is : 7 \n",
            "Value of b is :5\n"
          ]
        }
      ]
    },
    {
      "cell_type": "code",
      "source": [
        "# without third varible\n",
        "\n",
        "a,b=5,7\n",
        "a=a+b     # a--> 5+7 = 12  ,b=7\n",
        "b=a-b     # b--> 12-7 = 5\n",
        "a=a-b     # a--> 12-5 = 7\n",
        "print(f\"Value of a is : {a} \\nValue of b is :{b}\")\n",
        "\n",
        "\n"
      ],
      "metadata": {
        "colab": {
          "base_uri": "https://localhost:8080/"
        },
        "id": "QMAld2YDPK5U",
        "outputId": "1850fc25-f1ff-4ceb-a298-aa2587166831"
      },
      "execution_count": null,
      "outputs": [
        {
          "output_type": "stream",
          "name": "stdout",
          "text": [
            "Value of a is : 7 \n",
            "Value of b is :5\n"
          ]
        }
      ]
    },
    {
      "cell_type": "markdown",
      "source": [
        "------\n",
        "\n",
        "## Problem Statement -11\n",
        "\n",
        "### Write a program to find the absolute value of a number.  \n",
        "\n",
        "### Example  \n",
        "\n",
        "For number -25:  \n",
        "- Absolute value = 25  \n",
        "\n",
        "Final output → 25  \n",
        "\n",
        "### Algorithm  \n",
        "\n",
        "1. Start  \n",
        "2. Read a number `n` from the user  \n",
        "3. If `n < 0` → `n = -n`  \n",
        "4. Print `n` as absolute value  \n",
        "5. End  \n"
      ],
      "metadata": {
        "id": "Wcl-n0-Dfd_L"
      }
    },
    {
      "cell_type": "code",
      "source": [
        "n=int(input(\"Enter the Negative number :\"))\n",
        "\n",
        "if n<0:\n",
        "  print(\"Abouslte value is : \",n*-1)\n",
        "else:\n",
        "   print(\"Abouslte value is : \",n)"
      ],
      "metadata": {
        "id": "C4GyF81GfeK0",
        "colab": {
          "base_uri": "https://localhost:8080/"
        },
        "outputId": "a5b066da-caf8-4d39-ba7d-a04f44178afa"
      },
      "execution_count": null,
      "outputs": [
        {
          "output_type": "stream",
          "name": "stdout",
          "text": [
            "Enter the Negative number :-5\n",
            "Abouslte value is :  5\n"
          ]
        }
      ]
    },
    {
      "cell_type": "code",
      "source": [
        "n=int(input(\"Enter the Negative number :\"))\n",
        "print(\"Abouslte value is : \",abs(n))"
      ],
      "metadata": {
        "colab": {
          "base_uri": "https://localhost:8080/"
        },
        "id": "5Gc4PxsxP48z",
        "outputId": "44ccdec4-499c-4941-eba9-dd47cfcbcf46"
      },
      "execution_count": null,
      "outputs": [
        {
          "output_type": "stream",
          "name": "stdout",
          "text": [
            "Enter the Negative number :-6\n",
            "Abouslte value is :  6\n"
          ]
        }
      ]
    },
    {
      "cell_type": "markdown",
      "source": [
        "--------\n",
        "## Problem Statement -12\n",
        "\n",
        "### Write a program to find the sum of n natural numbers.  \n",
        "\n",
        "### Example  \n",
        "\n",
        "For n = 5:  \n",
        "- Sum = 1 + 2 + 3 + 4 + 5 = 15  \n",
        "\n",
        "Final output → 15  \n",
        "\n",
        "### Algorithm  \n",
        "\n",
        "1. Start  \n",
        "2. Read a number `n` from the user  \n",
        "3. Initialize `sum = 0`  \n",
        "4. For i = 1 to n → Add i to sum  \n",
        "5. Print sum  \n",
        "6. End  \n"
      ],
      "metadata": {
        "id": "oRn4z0UnfeXG"
      }
    },
    {
      "cell_type": "code",
      "source": [
        "n=int(input(\"Enter the number where you want to sum :\"))\n",
        "sum=0\n",
        "for i in range(1,n+1):\n",
        " sum+=i\n",
        "print(f\"Sum of first {n} natural number is :{sum}\")"
      ],
      "metadata": {
        "id": "Wyxd7MN3fehv",
        "colab": {
          "base_uri": "https://localhost:8080/"
        },
        "outputId": "82755dfc-18b9-4191-fa64-5f2fb8194a0f"
      },
      "execution_count": null,
      "outputs": [
        {
          "output_type": "stream",
          "name": "stdout",
          "text": [
            "Enter the number where you want to sum :5\n",
            "Sum of first 5 natural number is :15\n"
          ]
        }
      ]
    },
    {
      "cell_type": "markdown",
      "source": [
        "--------\n",
        "## Problem Statement -13\n",
        "\n",
        "### Write a program to find the factorial of a given number.  \n",
        "\n",
        "### Example  \n",
        "\n",
        "For number 5:  \n",
        "- 5! = 5 × 4 × 3 × 2 × 1 = 120  \n",
        "\n",
        "Final output → 120  \n",
        "\n",
        "### Algorithm  \n",
        "\n",
        "1. Start  \n",
        "2. Read a number `n` from the user  \n",
        "3. Initialize `fact = 1`  \n",
        "4. For i = 1 to n → `fact = fact * i`  \n",
        "5. Print `fact`  \n",
        "6. End  \n"
      ],
      "metadata": {
        "id": "7iWfgF9_fes7"
      }
    },
    {
      "cell_type": "code",
      "source": [
        "n=int(input(\"Enter the number :\"))\n",
        "fact=1\n",
        "for i in range(1,n+1):\n",
        "  fact*=i\n",
        "print(\"Factroial of \",n,\"is :\",fact)"
      ],
      "metadata": {
        "id": "8Kh9snkBfe3q",
        "colab": {
          "base_uri": "https://localhost:8080/"
        },
        "outputId": "70af5e70-5809-4ce0-df0e-fc06415d094a"
      },
      "execution_count": null,
      "outputs": [
        {
          "output_type": "stream",
          "name": "stdout",
          "text": [
            "Enter the number :5\n",
            "Factroial of  5 is : 120\n"
          ]
        }
      ]
    },
    {
      "cell_type": "code",
      "source": [
        "n=int(input(\"Enter the number :\"))\n",
        "fact=1\n",
        "for i in range(1,n+1):         # n=0 loop is not execute then it print fact initil value (fact=1)\n",
        "  fact*=i\n",
        "print(\"Factroial of \",n,\"is :\",fact)"
      ],
      "metadata": {
        "colab": {
          "base_uri": "https://localhost:8080/"
        },
        "id": "qYYZ3imaSDEJ",
        "outputId": "52b91315-b5e6-4d48-945b-879bc73b228b"
      },
      "execution_count": null,
      "outputs": [
        {
          "output_type": "stream",
          "name": "stdout",
          "text": [
            "Enter the number :0\n",
            "Factroial of  0 is : 1\n"
          ]
        }
      ]
    },
    {
      "cell_type": "markdown",
      "source": [
        "-----\n",
        "## Problem Statement -14\n",
        "\n",
        "### Write a program to extract the digits present in a given number.  \n",
        "\n",
        "### Example  \n",
        "\n",
        "For number 4725:  \n",
        "- Digits = 4, 7, 2, 5  \n",
        "\n",
        "Final output → 4 7 2 5  \n",
        "\n",
        "### Algorithm  \n",
        "\n",
        "1. Start  \n",
        "2. Read a number `n` from the user  \n",
        "3. While `n > 0` →  \n",
        "   - digit = n % 10  \n",
        "   - Store digit in a list or print it  \n",
        "   - n = n / 10  \n",
        "4. Print digits in correct order  \n",
        "5. End  \n"
      ],
      "metadata": {
        "id": "EvoHyjBigylY"
      }
    },
    {
      "cell_type": "code",
      "source": [
        "# Problem 14: Digits Extraction\n",
        "n = int(input(\"Enter a number: \"))\n",
        "digits = []\n",
        "temp = n\n",
        "\n",
        "while temp > 0:\n",
        "    digit = temp % 10\n",
        "    digits.insert(0, digit)  # maintain order\n",
        "    temp //= 10\n",
        "\n",
        "print(\"Digits:\", digits)\n"
      ],
      "metadata": {
        "id": "kDPn4Lm3ffMe",
        "colab": {
          "base_uri": "https://localhost:8080/"
        },
        "outputId": "c10936a5-97d6-41d4-c09a-ea3b0e468012"
      },
      "execution_count": null,
      "outputs": [
        {
          "output_type": "stream",
          "name": "stdout",
          "text": [
            "Enter a number: 4725\n",
            "Digits: [4, 7, 2, 5]\n"
          ]
        }
      ]
    },
    {
      "cell_type": "markdown",
      "source": [
        "-----\n",
        "## Problem Statement -15\n",
        "\n",
        "### Write a program to count the number of digits in a given number.  \n",
        "\n",
        "### Example  \n",
        "\n",
        "For number 4725:  \n",
        "- Count = 4  \n",
        "\n",
        "Final output → 4  \n",
        "\n",
        "### Algorithm  \n",
        "\n",
        "1. Start  \n",
        "2. Read a number `n` from the user  \n",
        "3. Initialize `count = 0`  \n",
        "4. While `n > 0` →  \n",
        "   - n = n / 10  \n",
        "   - Increment count by 1  \n",
        "5. Print count  \n",
        "6. End  \n"
      ],
      "metadata": {
        "id": "7WHBsh7jffmS"
      }
    },
    {
      "cell_type": "code",
      "source": [
        "\n",
        "n = int(input(\"Enter a number: \"))\n",
        "count = 0\n",
        "temp = abs(n)\n",
        "\n",
        "if temp == 0:\n",
        "    count = 1\n",
        "else:\n",
        "    while temp > 0:\n",
        "        temp //= 10\n",
        "        count += 1\n",
        "\n",
        "print(f\"Number of digits = {count}\")\n"
      ],
      "metadata": {
        "id": "kNG_lmAjffyb",
        "colab": {
          "base_uri": "https://localhost:8080/"
        },
        "outputId": "8d25f4d5-2cdf-4be0-923d-9ca092901b6e"
      },
      "execution_count": null,
      "outputs": [
        {
          "output_type": "stream",
          "name": "stdout",
          "text": [
            "Enter a number: 4725\n",
            "Number of digits = 4\n"
          ]
        }
      ]
    },
    {
      "cell_type": "markdown",
      "source": [
        "--------\n",
        "## Problem Statement -16\n",
        "\n",
        "### Write a program to find the reverse of a given number.  \n",
        "\n",
        "### Example  \n",
        "\n",
        "For number 4725:  \n",
        "- Reverse = 5274  \n",
        "\n",
        "Final output → 5274  \n",
        "\n",
        "### Algorithm  \n",
        "\n",
        "1. Start  \n",
        "2. Read a number `n` from the user  \n",
        "3. Initialize `rev = 0`  \n",
        "4. While `n > 0` →  \n",
        "   - digit = n % 10  \n",
        "   - rev = rev * 10 + digit  \n",
        "   - n = n / 10  \n",
        "5. Print rev  \n",
        "6. End  \n"
      ],
      "metadata": {
        "id": "jUJChnYGff9v"
      }
    },
    {
      "cell_type": "code",
      "source": [
        "# Problem 16: Reverse a number\n",
        "n = int(input(\"Enter a number: \"))\n",
        "rev = 0\n",
        "temp = n\n",
        "\n",
        "while temp > 0:\n",
        "    digit = temp % 10\n",
        "    rev = rev * 10 + digit\n",
        "    temp //= 10\n",
        "\n",
        "print(f\"Reverse = {rev}\")\n"
      ],
      "metadata": {
        "id": "V60ss0Syg2lV",
        "colab": {
          "base_uri": "https://localhost:8080/"
        },
        "outputId": "47843275-1341-4a17-ae7b-8da40292551a"
      },
      "execution_count": null,
      "outputs": [
        {
          "output_type": "stream",
          "name": "stdout",
          "text": [
            "Enter a number: 4725\n",
            "Reverse = 5274\n"
          ]
        }
      ]
    },
    {
      "cell_type": "markdown",
      "source": [
        "-----\n",
        "## Problem Statement -17\n",
        "\n",
        "### Write a program to check whether the given number is a palindrome or not.  \n",
        "\n",
        "### Example  \n",
        "\n",
        "For number 121:  \n",
        "- Reverse = 121 → same as original → Palindrome  \n",
        "\n",
        "Final output → Palindrome  \n",
        "\n",
        "### Algorithm  \n",
        "\n",
        "1. Start  \n",
        "2. Read a number `n` from the user  \n",
        "3. Store original number in `temp`  \n",
        "4. Initialize `rev = 0`  \n",
        "5. While `n > 0` →  \n",
        "   - digit = n % 10  \n",
        "   - rev = rev * 10 + digit  \n",
        "   - n = n / 10  \n",
        "6. If `rev == temp` → Print \"Palindrome\"  \n",
        "   Else → Print \"Not Palindrome\"  \n",
        "7. End  \n"
      ],
      "metadata": {
        "id": "ewUSgQ8efgTo"
      }
    },
    {
      "cell_type": "code",
      "source": [
        "# Problem 17: Palindrome number\n",
        "n = int(input(\"Enter a number: \"))\n",
        "rev = 0\n",
        "temp = n\n",
        "\n",
        "while temp > 0:\n",
        "    digit = temp % 10\n",
        "    rev = rev * 10 + digit\n",
        "    temp //= 10\n",
        "\n",
        "if rev == n:\n",
        "    print(f\"{n} is Palindrome\")\n",
        "else:\n",
        "    print(f\"{n} is Not Palindrome\")\n"
      ],
      "metadata": {
        "id": "qdBVlpyxfgfB",
        "colab": {
          "base_uri": "https://localhost:8080/"
        },
        "outputId": "a66fc935-2927-47e3-b2ee-189e881ed428"
      },
      "execution_count": null,
      "outputs": [
        {
          "output_type": "stream",
          "name": "stdout",
          "text": [
            "Enter a number: 121\n",
            "121 is Palindrome\n"
          ]
        }
      ]
    },
    {
      "cell_type": "markdown",
      "source": [
        "--------\n",
        "## Problem Statement -18\n",
        "\n",
        "### Write a program to find the number of trailing zeros in the factorial of a number.  \n",
        "\n",
        "### Example  \n",
        "\n",
        "For number 10:  \n",
        "- 10! = 3628800 → Trailing zeros = 2  \n",
        "\n",
        "Final output → 2  \n",
        "\n",
        "### Algorithm  \n",
        "\n",
        "1. Start  \n",
        "2. Read a number `n` from the user  \n",
        "3. Initialize `count = 0`  \n",
        "4. While n >= 5 →  \n",
        "   - count = count + n/5  \n",
        "   - n = n / 5  \n",
        "5. Print count  \n",
        "6. End  \n"
      ],
      "metadata": {
        "id": "lNh9a7lZfgp8"
      }
    },
    {
      "cell_type": "code",
      "source": [
        "import math\n",
        "npt=int(input(\"Enter the number\"))\n",
        "count=0\n",
        "math.factorial(npt)\n",
        "\n",
        "while n>=5:\n",
        "  count=count+n/5\n",
        "  n=n/5\n",
        "else:\n",
        "  print(count)\n"
      ],
      "metadata": {
        "id": "i2Y-S2JtaaS3",
        "colab": {
          "base_uri": "https://localhost:8080/",
          "height": 238
        },
        "outputId": "cc0b4131-d4ad-429d-e397-3d848ac8d977"
      },
      "execution_count": null,
      "outputs": [
        {
          "name": "stdout",
          "output_type": "stream",
          "text": [
            "Enter the number5\n"
          ]
        },
        {
          "output_type": "error",
          "ename": "NameError",
          "evalue": "name 'n' is not defined",
          "traceback": [
            "\u001b[0;31m---------------------------------------------------------------------------\u001b[0m",
            "\u001b[0;31mNameError\u001b[0m                                 Traceback (most recent call last)",
            "\u001b[0;32m/tmp/ipython-input-3655471331.py\u001b[0m in \u001b[0;36m<cell line: 0>\u001b[0;34m()\u001b[0m\n\u001b[1;32m      4\u001b[0m \u001b[0mmath\u001b[0m\u001b[0;34m.\u001b[0m\u001b[0mfactorial\u001b[0m\u001b[0;34m(\u001b[0m\u001b[0mnpt\u001b[0m\u001b[0;34m)\u001b[0m\u001b[0;34m\u001b[0m\u001b[0;34m\u001b[0m\u001b[0m\n\u001b[1;32m      5\u001b[0m \u001b[0;34m\u001b[0m\u001b[0m\n\u001b[0;32m----> 6\u001b[0;31m \u001b[0;32mwhile\u001b[0m \u001b[0mn\u001b[0m\u001b[0;34m>=\u001b[0m\u001b[0;36m5\u001b[0m\u001b[0;34m:\u001b[0m\u001b[0;34m\u001b[0m\u001b[0;34m\u001b[0m\u001b[0m\n\u001b[0m\u001b[1;32m      7\u001b[0m   \u001b[0mcount\u001b[0m\u001b[0;34m=\u001b[0m\u001b[0mcount\u001b[0m\u001b[0;34m+\u001b[0m\u001b[0mn\u001b[0m\u001b[0;34m/\u001b[0m\u001b[0;36m5\u001b[0m\u001b[0;34m\u001b[0m\u001b[0;34m\u001b[0m\u001b[0m\n\u001b[1;32m      8\u001b[0m   \u001b[0mn\u001b[0m\u001b[0;34m=\u001b[0m\u001b[0mn\u001b[0m\u001b[0;34m/\u001b[0m\u001b[0;36m5\u001b[0m\u001b[0;34m\u001b[0m\u001b[0;34m\u001b[0m\u001b[0m\n",
            "\u001b[0;31mNameError\u001b[0m: name 'n' is not defined"
          ]
        }
      ]
    },
    {
      "cell_type": "code",
      "source": [
        "import math\n",
        "\n",
        "n = int(input(\"Enter a number: \"))\n",
        "fact = math.factorial(n)\n",
        "print(fact)"
      ],
      "metadata": {
        "id": "gqk1L_n4fg1Z",
        "colab": {
          "base_uri": "https://localhost:8080/"
        },
        "outputId": "a5bd8cd8-b7c8-4d4d-892c-be1be30560e4"
      },
      "execution_count": null,
      "outputs": [
        {
          "output_type": "stream",
          "name": "stdout",
          "text": [
            "Enter a number: 5\n",
            "120\n"
          ]
        }
      ]
    },
    {
      "cell_type": "code",
      "source": [
        "\n",
        "fact_str = str(fact)\n",
        "\n",
        "print(fact_str)\n",
        "\n",
        "a=reversed(fact_str)\n",
        "print(a)"
      ],
      "metadata": {
        "colab": {
          "base_uri": "https://localhost:8080/"
        },
        "id": "uccWad9QaaVj",
        "outputId": "311e4cc7-624c-422f-fbdc-dfcdbbc58287"
      },
      "execution_count": null,
      "outputs": [
        {
          "output_type": "stream",
          "name": "stdout",
          "text": [
            "120\n",
            "<reversed object at 0x7b2525016170>\n"
          ]
        }
      ]
    },
    {
      "cell_type": "code",
      "source": [
        "\n",
        "\n",
        "# Count trailing zeros\n",
        "count = 0\n",
        "for ch in reversed(fact_str):\n",
        "    if ch == '0':\n",
        "        count += 1\n",
        "    else:\n",
        "        break\n",
        "\n",
        "print(f\"Trailing zeros = {count}\")\n"
      ],
      "metadata": {
        "id": "AEQqOz9xaaZo"
      },
      "execution_count": null,
      "outputs": []
    },
    {
      "cell_type": "code",
      "source": [
        "n = int(input(\"Enter a number: \"))\n",
        "count = 0\n",
        "i = 5\n",
        "\n",
        "while n // i >= 1:\n",
        "    count += n // i\n",
        "    i *= 5\n",
        "\n",
        "print(f\"Trailing zeros = {count}\")\n"
      ],
      "metadata": {
        "colab": {
          "base_uri": "https://localhost:8080/"
        },
        "id": "cZn92NFtbRmS",
        "outputId": "75d5f56f-72c5-47b5-ce03-0b2bdd0b57f3"
      },
      "execution_count": null,
      "outputs": [
        {
          "output_type": "stream",
          "name": "stdout",
          "text": [
            "Enter a number: 10\n",
            "Trailing zeros = 2\n"
          ]
        }
      ]
    },
    {
      "cell_type": "code",
      "source": [
        "a=set()\n",
        "print(a)"
      ],
      "metadata": {
        "colab": {
          "base_uri": "https://localhost:8080/"
        },
        "id": "hcyiXVXYbSAw",
        "outputId": "3fe43365-5c7d-4201-ca83-cd02eaac3bbd"
      },
      "execution_count": null,
      "outputs": [
        {
          "output_type": "stream",
          "name": "stdout",
          "text": [
            "set()\n"
          ]
        }
      ]
    },
    {
      "cell_type": "markdown",
      "source": [],
      "metadata": {
        "id": "X-wc8Jk6xk6B"
      }
    },
    {
      "cell_type": "markdown",
      "source": [],
      "metadata": {
        "id": "4u3q351IxjqV"
      }
    },
    {
      "cell_type": "markdown",
      "source": [
        "-----\n",
        "## Problem Statement -19\n",
        "\n",
        "### Write a program to compute x to the power y.  \n",
        "\n",
        "### Example  \n",
        "\n",
        "For x = 2, y = 5:  \n",
        "- 2⁵ = 32  \n",
        "\n",
        "Final output → 32  \n",
        "\n",
        "### Algorithm  \n",
        "\n",
        "1. Start  \n",
        "2. Read numbers `x` and `y` from the user  \n",
        "3. Initialize `result = 1`  \n",
        "4. For i = 1 to y →  \n",
        "   - result = result * x  \n",
        "5. Print result  \n",
        "6. End  \n"
      ],
      "metadata": {
        "id": "8t_LSnJ-fg_8"
      }
    },
    {
      "cell_type": "code",
      "source": [
        "\n",
        "x = int(input(\"Enter the base (x): \"))\n",
        "y = int(input(\"Enter the exponent (y): \"))\n",
        "\n",
        "\n",
        "result = 1\n",
        "\n",
        "\n",
        "for i in range(1, y + 1):\n",
        "    result = result * x\n",
        "\n",
        "\n",
        "print(f\"{x}^{y} = {result}\")\n"
      ],
      "metadata": {
        "id": "hedFsbx1fhKR",
        "colab": {
          "base_uri": "https://localhost:8080/"
        },
        "outputId": "6b7aeb29-fd14-42fb-a589-717a4aa045dd"
      },
      "execution_count": 1,
      "outputs": [
        {
          "output_type": "stream",
          "name": "stdout",
          "text": [
            "Enter the base (x): 5\n",
            "Enter the exponent (y): 2\n",
            "5^2 = 25\n"
          ]
        }
      ]
    },
    {
      "cell_type": "markdown",
      "source": [
        "------\n",
        "## Problem Statement -20\n",
        "\n",
        "### Write a program to find the sum of digits of a given number.  \n",
        "\n",
        "### Example  \n",
        "\n",
        "For number 4725:  \n",
        "- Sum = 4 + 7 + 2 + 5 = 18  \n",
        "\n",
        "Final output → 18  \n",
        "\n",
        "### Algorithm  \n",
        "\n",
        "1. Start  \n",
        "2. Read a number `n` from the user  \n",
        "3. Initialize `sum = 0`  \n",
        "4. While `n > 0` →  \n",
        "   - digit = n % 10  \n",
        "   - sum = sum + digit  \n",
        "   - n = n / 10  \n",
        "5. Print sum  \n",
        "6. End  \n"
      ],
      "metadata": {
        "id": "XJsHQLvdfhWz"
      }
    },
    {
      "cell_type": "code",
      "source": [
        "# Program to find the sum of digits of a number\n",
        "\n",
        "\n",
        "n = int(input(\"Enter a number: \"))\n",
        "\n",
        "# Initialize sum\n",
        "sum_digits = 0\n",
        "\n",
        "# Process each digit\n",
        "while n > 0:\n",
        "    digit = n % 10          # Get the last digit\n",
        "    sum_digits += digit     # Add it to sum\n",
        "    n = n // 10             # Remove the last digit\n",
        "\n",
        "\n",
        "print(\"Sum of digits =\", sum_digits)\n"
      ],
      "metadata": {
        "colab": {
          "base_uri": "https://localhost:8080/"
        },
        "id": "PZcX6KHMrSLJ",
        "outputId": "b52ac90b-7d8c-4fec-8758-baf027007df0"
      },
      "execution_count": 2,
      "outputs": [
        {
          "output_type": "stream",
          "name": "stdout",
          "text": [
            "Enter a number: 54\n",
            "Sum of digits = 9\n"
          ]
        }
      ]
    },
    {
      "cell_type": "code",
      "source": [
        "# Problem 20: Sum of digits\n",
        "n = int(input(\"Enter a number: \"))\n",
        "sum_digits = 0\n",
        "temp = abs(n)\n",
        "\n",
        "while temp > 0:\n",
        "    digit = temp % 10\n",
        "    sum_digits += digit\n",
        "    temp //= 10\n",
        "\n",
        "print(f\"Sum of digits = {sum_digits}\")\n"
      ],
      "metadata": {
        "id": "MW_Ukruth-wP",
        "colab": {
          "base_uri": "https://localhost:8080/"
        },
        "outputId": "2d5e0640-6323-4868-dfc5-aefdbfac4714"
      },
      "execution_count": null,
      "outputs": [
        {
          "output_type": "stream",
          "name": "stdout",
          "text": [
            "Enter a number: 4725\n",
            "Sum of digits = 18\n"
          ]
        }
      ]
    },
    {
      "cell_type": "markdown",
      "source": [
        "-------\n",
        "## Problem Statement -21\n",
        "\n",
        "### Write a program to find the sum of even digits of a given number.  \n",
        "\n",
        "### Example  \n",
        "\n",
        "For number 4725:  \n",
        "- Even digits = 4, 2  \n",
        "- Sum = 6  \n",
        "\n",
        "Final output → 6  \n",
        "\n",
        "### Algorithm  \n",
        "\n",
        "1. Start  \n",
        "2. Read a number `n` from the user  \n",
        "3. Initialize `sum = 0`  \n",
        "4. While `n > 0` →  \n",
        "   - digit = n % 10  \n",
        "   - If digit % 2 == 0 → sum = sum + digit  \n",
        "   - n = n / 10  \n",
        "5. Print sum  \n",
        "6. End  \n"
      ],
      "metadata": {
        "id": "mYnfWdVzg7mA"
      }
    },
    {
      "cell_type": "code",
      "source": [],
      "metadata": {
        "id": "iKVLOiLafhiT"
      },
      "execution_count": null,
      "outputs": []
    },
    {
      "cell_type": "markdown",
      "source": [
        "----------\n",
        "## Problem Statement -22\n",
        "\n",
        "### Write a program to find the sum of odd digits of a given number.  \n",
        "\n",
        "### Example  \n",
        "\n",
        "For number 4725:  \n",
        "- Odd digits = 7, 5  \n",
        "- Sum = 12  \n",
        "\n",
        "Final output → 12  \n",
        "\n",
        "### Algorithm  \n",
        "\n",
        "1. Start  \n",
        "2. Read a number `n` from the user  \n",
        "3. Initialize `sum = 0`  \n",
        "4. While `n > 0` →  \n",
        "   - digit = n % 10  \n",
        "   - If digit % 2 != 0 → sum = sum + digit  \n",
        "   - n = n / 10  \n",
        "5. Print sum  \n",
        "6. End  \n"
      ],
      "metadata": {
        "id": "65BRKRGcg9gz"
      }
    },
    {
      "cell_type": "code",
      "source": [
        "# Program to find the sum of even digits of a number\n",
        "\n",
        "\n",
        "n = int(input(\"Enter a number: \"))\n",
        "\n",
        "\n",
        "sum_even = 0\n",
        "\n",
        "# Process each digit\n",
        "while n > 0:\n",
        "    digit = n % 10           # Get the last digit\n",
        "    if digit % 2 == 0:       # Check if it is even\n",
        "        sum_even += digit\n",
        "    n = n // 10              # Remove the last digit\n",
        "\n",
        "\n",
        "print(\"Sum of even digits =\", sum_even)\n"
      ],
      "metadata": {
        "id": "X046hvlqfh3z",
        "colab": {
          "base_uri": "https://localhost:8080/"
        },
        "outputId": "830b1400-e832-4256-d688-a4aae446fa1d"
      },
      "execution_count": 4,
      "outputs": [
        {
          "output_type": "stream",
          "name": "stdout",
          "text": [
            "Enter a number: 48238\n",
            "Sum of even digits = 22\n"
          ]
        }
      ]
    },
    {
      "cell_type": "markdown",
      "source": [
        "------\n",
        "## Problem Statement -23\n",
        "\n",
        "### Write a program to find the sum of prime digits of a given number.  \n",
        "\n",
        "### Example  \n",
        "\n",
        "For number 4725:  \n",
        "- Prime digits = 2, 5, 7  \n",
        "- Sum = 14  \n",
        "\n",
        "Final output → 14  \n",
        "\n",
        "### Algorithm  \n",
        "\n",
        "1. Start  \n",
        "2. Read a number `n` from the user  \n",
        "3. Initialize `sum = 0`  \n",
        "4. While `n > 0` →  \n",
        "   - digit = n % 10  \n",
        "   - If digit is prime (2, 3, 5, 7) → sum = sum + digit  \n",
        "   - n = n / 10  \n",
        "5. Print sum  \n",
        "6. End  \n"
      ],
      "metadata": {
        "id": "0PZEWbTog_Jf"
      }
    },
    {
      "cell_type": "code",
      "source": [
        "\n",
        "n = int(input(\"Enter a number: \"))\n",
        "\n",
        "\n",
        "sum_prime = 0\n",
        "\n",
        "prime_digits = {2, 3, 5, 7}\n",
        "\n",
        "# Process each digit\n",
        "while n > 0:\n",
        "    digit = n % 10              # Get the last digit\n",
        "    if digit in prime_digits:   # Check if digit is prime\n",
        "        sum_prime += digit\n",
        "    n = n // 10                 # Remove the last digit\n",
        "\n",
        "\n",
        "print(\"Sum of prime digits =\", sum_prime)\n"
      ],
      "metadata": {
        "id": "JcRadRgwfiMt",
        "colab": {
          "base_uri": "https://localhost:8080/"
        },
        "outputId": "6e2a13ff-6c7a-4800-eeae-ce04e6a7f646"
      },
      "execution_count": 5,
      "outputs": [
        {
          "output_type": "stream",
          "name": "stdout",
          "text": [
            "Enter a number: 7541741\n",
            "Sum of prime digits = 19\n"
          ]
        }
      ]
    },
    {
      "cell_type": "markdown",
      "source": [
        "---------\n",
        "## Problem Statement -24\n",
        "\n",
        "### Write a program to check whether the given number is prime or not.  \n",
        "\n",
        "### Example  \n",
        "\n",
        "For number 7:  \n",
        "- Divisors = 1, 7 → Prime  \n",
        "\n",
        "Final output → Prime  \n",
        "\n",
        "### Algorithm  \n",
        "\n",
        "1. Start  \n",
        "2. Read a number `n` from the user  \n",
        "3. If n <= 1 → Print \"Not Prime\"  \n",
        "4. Else →  \n",
        "   - For i = 2 to sqrt(n)  \n",
        "      - If n % i == 0 → Print \"Not Prime\" and exit  \n",
        "5. If loop completes → Print \"Prime\"  \n",
        "6. End  \n"
      ],
      "metadata": {
        "id": "pgtucvaSfiqD"
      }
    },
    {
      "cell_type": "code",
      "source": [
        "\n",
        "import math\n",
        "\n",
        "\n",
        "n = int(input(\"Enter a number: \"))\n",
        "\n",
        "# Check for numbers less than or equal to 1\n",
        "if n <= 1:\n",
        "    print(\"Not Prime\")\n",
        "else:\n",
        "    # Assume number is prime\n",
        "    is_prime = True\n",
        "\n",
        "    # Check divisibility from 2 to sqrt(n)\n",
        "    for i in range(2, int(math.sqrt(n)) + 1):\n",
        "        if n % i == 0:\n",
        "            is_prime = False\n",
        "            break\n",
        "\n",
        "    # Print result\n",
        "    if is_prime:\n",
        "        print(\"Prime\")\n",
        "    else:\n",
        "        print(\"Not Prime\")\n"
      ],
      "metadata": {
        "id": "QfjaN3uqhC3d",
        "colab": {
          "base_uri": "https://localhost:8080/"
        },
        "outputId": "9e4c8f85-92f3-4de4-dcde-fd201219505f"
      },
      "execution_count": 6,
      "outputs": [
        {
          "output_type": "stream",
          "name": "stdout",
          "text": [
            "Enter a number: 774\n",
            "Not Prime\n"
          ]
        }
      ]
    },
    {
      "cell_type": "markdown",
      "source": [
        "-------\n",
        "## Problem Statement -25\n",
        "\n",
        "### Write a program to find all divisors of a given number N.  \n",
        "\n",
        "### Example  \n",
        "\n",
        "For N = 12:  \n",
        "- Divisors = 1, 2, 3, 4, 6, 12  \n",
        "\n",
        "Final output → 1 2 3 4 6 12  \n",
        "\n",
        "### Algorithm  \n",
        "\n",
        "1. Start  \n",
        "2. Read a number `n` from the user  \n",
        "3. For i = 1 to n →  \n",
        "   - If n % i == 0 → Print i  \n",
        "4. End  \n"
      ],
      "metadata": {
        "id": "btIO-0tlfizw"
      }
    },
    {
      "cell_type": "code",
      "source": [
        "\n",
        "n = int(input(\"Enter a number: \"))\n",
        "\n",
        "print(\"Divisors of\", n, \"are:\")\n",
        "\n",
        "# Loop from 1 to n\n",
        "for i in range(1, n + 1):\n",
        "    if n % i == 0:\n",
        "        print(i, end=\" \")\n"
      ],
      "metadata": {
        "id": "kkS9xqzfhEi0",
        "colab": {
          "base_uri": "https://localhost:8080/"
        },
        "outputId": "da4ab8d8-027a-420f-ae5a-f1ba12168750"
      },
      "execution_count": 8,
      "outputs": [
        {
          "output_type": "stream",
          "name": "stdout",
          "text": [
            "Enter a number: 12\n",
            "Divisors of 12 are:\n",
            "1 2 3 4 6 12 "
          ]
        }
      ]
    },
    {
      "cell_type": "markdown",
      "source": [
        "-----\n",
        "## Problem Statement -26\n",
        "\n",
        "### Write a program to check whether the given number is a Perfect Number.  \n",
        "\n",
        "### Example  \n",
        "\n",
        "For number 28:  \n",
        "- Divisors = 1, 2, 4, 7, 14  \n",
        "- Sum = 28 → Perfect Number  \n",
        "\n",
        "Final output → Perfect Number  \n",
        "\n",
        "### Algorithm  \n",
        "\n",
        "1. Start  \n",
        "2. Read a number `n` from the user  \n",
        "3. Initialize `sum = 0`  \n",
        "4. For i = 1 to n-1 →  \n",
        "   - If n % i == 0 → sum = sum + i  \n",
        "5. If sum == n → Print \"Perfect Number\"  \n",
        "   Else → Print \"Not Perfect Number\"  \n",
        "6. End  \n"
      ],
      "metadata": {
        "id": "Ifu8oS98fi2Z"
      }
    },
    {
      "cell_type": "code",
      "source": [
        "\n",
        "n = int(input(\"Enter a number: \"))\n",
        "\n",
        "# Initialize sum of divisors\n",
        "sum_divisors = 0\n",
        "\n",
        "# Loop to find divisors from 1 to n-1\n",
        "for i in range(1, n):\n",
        "    if n % i == 0:\n",
        "        sum_divisors += i\n",
        "\n",
        "# Check if sum of divisors equals the number\n",
        "if sum_divisors == n:\n",
        "    print(\"Perfect Number\")\n",
        "else:\n",
        "    print(\"Not Perfect Number\")\n"
      ],
      "metadata": {
        "id": "EpOBJ7J_hGeX",
        "colab": {
          "base_uri": "https://localhost:8080/"
        },
        "outputId": "31ca4fc5-aa03-4f90-c99f-6353a62a66d7"
      },
      "execution_count": 9,
      "outputs": [
        {
          "output_type": "stream",
          "name": "stdout",
          "text": [
            "Enter a number: 28\n",
            "Perfect Number\n"
          ]
        }
      ]
    },
    {
      "cell_type": "markdown",
      "source": [
        "-------\n",
        "## Problem Statement -27\n",
        "\n",
        "### Write a program to check whether the given number is an Armstrong Number.  \n",
        "\n",
        "### Example  \n",
        "\n",
        "For number 153:  \n",
        "- 1³ + 5³ + 3³ = 153 → Armstrong  \n",
        "\n",
        "Final output → Armstrong Number  \n",
        "\n",
        "### Algorithm  \n",
        "\n",
        "1. Start  \n",
        "2. Read a number `n` from the user  \n",
        "3. Store original number in `temp`  \n",
        "4. Initialize `sum = 0`  \n",
        "5. While n > 0 →  \n",
        "   - digit = n % 10  \n",
        "   - sum = sum + digit³  \n",
        "   - n = n / 10  \n",
        "6. If sum == temp → Print \"Armstrong Number\"  \n",
        "   Else → Print \"Not Armstrong Number\"  \n",
        "7. End  \n"
      ],
      "metadata": {
        "id": "t1AvMztxfi45"
      }
    },
    {
      "cell_type": "code",
      "source": [
        "\n",
        "n = int(input(\"Enter a number: \"))\n",
        "\n",
        "temp = n\n",
        "\n",
        "\n",
        "sum_digits = 0\n",
        "\n",
        "# Process each digit\n",
        "while n > 0:\n",
        "    digit = n % 10               # Get the last digit\n",
        "    sum_digits += digit ** 3     # Add cube of digit\n",
        "    n = n // 10                  # Remove the last digit\n",
        "\n",
        "\n",
        "# Check if sum equals original number\n",
        "if sum_digits == temp:\n",
        "    print(\"Armstrong Number\")\n",
        "else:\n",
        "    print(\"Not Armstrong Number\")\n"
      ],
      "metadata": {
        "id": "vBoD013DhIeD",
        "colab": {
          "base_uri": "https://localhost:8080/"
        },
        "outputId": "560438f1-4d36-4e29-8e46-ac59bf6d1777"
      },
      "execution_count": 10,
      "outputs": [
        {
          "output_type": "stream",
          "name": "stdout",
          "text": [
            "Enter a number: 153\n",
            "Armstrong Number\n"
          ]
        }
      ]
    },
    {
      "cell_type": "markdown",
      "source": [
        "----------\n",
        "## Problem Statement -28\n",
        "\n",
        "### Write a program to check whether the given number is a Strong Number.  \n",
        "\n",
        "### Example  \n",
        "\n",
        "For number 145:  \n",
        "- 1! + 4! + 5! = 145 → Strong Number  \n",
        "\n",
        "Final output → Strong Number  \n",
        "\n",
        "### Algorithm  \n",
        "\n",
        "1. Start  \n",
        "2. Read a number `n` from the user  \n",
        "3. Store original number in `temp`  \n",
        "4. Initialize `sum = 0`  \n",
        "5. While n > 0 →  \n",
        "   - digit = n % 10  \n",
        "   - factorial = 1  \n",
        "   - For i = 1 to digit → factorial = factorial * i  \n",
        "   - sum = sum + factorial  \n",
        "   - n = n / 10  \n",
        "6. If sum == temp → Print \"Strong Number\"  \n",
        "   Else → Print \"Not Strong Number\"  \n",
        "7. End  \n"
      ],
      "metadata": {
        "id": "YJbZFWfefi76"
      }
    },
    {
      "cell_type": "code",
      "source": [
        "\n",
        "n = int(input(\"Enter a number: \"))\n",
        "\n",
        "\n",
        "temp = n\n",
        "\n",
        "# Initialize sum\n",
        "sum_factorials = 0\n",
        "\n",
        "# Process each digit\n",
        "while n > 0:\n",
        "    digit = n % 10\n",
        "    factorial = 1\n",
        "\n",
        "    # Calculate factorial of the digit\n",
        "    for i in range(1, digit + 1):\n",
        "        factorial *= i\n",
        "\n",
        "    sum_factorials += factorial\n",
        "    n = n // 10\n",
        "\n",
        "# Check if sum of factorials equals original number\n",
        "if sum_factorials == temp:\n",
        "    print(\"Strong Number\")\n",
        "else:\n",
        "    print(\"Not Strong Number\")\n"
      ],
      "metadata": {
        "id": "j6smMqfihJnw",
        "colab": {
          "base_uri": "https://localhost:8080/"
        },
        "outputId": "3823bdd6-db51-40e7-98a7-cf44af0eb910"
      },
      "execution_count": 11,
      "outputs": [
        {
          "output_type": "stream",
          "name": "stdout",
          "text": [
            "Enter a number: 145\n",
            "Strong Number\n"
          ]
        }
      ]
    },
    {
      "cell_type": "markdown",
      "source": [
        "--------\n",
        "## Problem Statement -29\n",
        "\n",
        "### Write a program to generate Fibonacci sequence up to n terms.  \n",
        "\n",
        "### Example  \n",
        "\n",
        "For n = 6:  \n",
        "- Sequence = 0, 1, 1, 2, 3, 5  \n",
        "\n",
        "Final output → 0 1 1 2 3 5  \n",
        "\n",
        "### Algorithm  \n",
        "\n",
        "1. Start  \n",
        "2. Read number `n` from the user  \n",
        "3. Initialize `a = 0`, `b = 1`  \n",
        "4. Print `a` and `b`  \n",
        "5. For i = 3 to n →  \n",
        "   - c = a + b  \n",
        "   - Print c  \n",
        "   - a = b, b = c  \n",
        "6. End  \n"
      ],
      "metadata": {
        "id": "5wheNybFfi-Y"
      }
    },
    {
      "cell_type": "code",
      "source": [
        "\n",
        "n = int(input(\"Enter the number of terms: \"))\n",
        "\n",
        "\n",
        "a, b = 0, 1\n",
        "\n",
        "# Check for n <= 0\n",
        "if n <= 0:\n",
        "    print(\"Please enter a positive integer\")\n",
        "elif n == 1:\n",
        "    print(\"Fibonacci sequence:\", a)\n",
        "else:\n",
        "    print(\"Fibonacci sequence:\", a, b, end=\" \")\n",
        "\n",
        "    # Generate remaining terms\n",
        "    for i in range(3, n + 1):\n",
        "        c = a + b\n",
        "        print(c, end=\" \")\n",
        "        a, b = b, c\n"
      ],
      "metadata": {
        "id": "vN29SgPzhK1H",
        "colab": {
          "base_uri": "https://localhost:8080/"
        },
        "outputId": "fbf11589-cbb9-400d-db04-ed7609b04834"
      },
      "execution_count": 12,
      "outputs": [
        {
          "output_type": "stream",
          "name": "stdout",
          "text": [
            "Enter the number of terms: 6\n",
            "Fibonacci sequence: 0 1 1 2 3 5 "
          ]
        }
      ]
    },
    {
      "cell_type": "markdown",
      "source": [
        "--------\n",
        "## Problem Statement -30\n",
        "\n",
        "### Write a program to generate Tribonacci sequence up to n terms.  \n",
        "\n",
        "### Example  \n",
        "\n",
        "For n = 6:  \n",
        "- Sequence = 0, 1, 1, 2, 4, 7  \n",
        "\n",
        "Final output → 0 1 1 2 4 7  \n",
        "\n",
        "### Algorithm  \n",
        "\n",
        "1. Start  \n",
        "2. Read number `n` from the user  \n",
        "3. Initialize `a = 0`, `b = 1`, `c = 1`  \n",
        "4. Print `a`, `b`, `c`  \n",
        "5. For i = 4 to n →  \n",
        "   - d = a + b + c  \n",
        "   - Print d  \n",
        "   - a = b, b = c, c = d  \n",
        "6. End  \n"
      ],
      "metadata": {
        "id": "rTHMeAWafjBI"
      }
    },
    {
      "cell_type": "code",
      "source": [
        "\n",
        "n = int(input(\"Enter the number of terms: \"))\n",
        "\n",
        "\n",
        "a, b, c = 0, 1, 1\n",
        "\n",
        "# Handle cases for n <= 0\n",
        "if n <= 0:\n",
        "    print(\"Please enter a positive integer\")\n",
        "elif n == 1:\n",
        "    print(\"Tribonacci sequence:\", a)\n",
        "elif n == 2:\n",
        "    print(\"Tribonacci sequence:\", a, b)\n",
        "elif n == 3:\n",
        "    print(\"Tribonacci sequence:\", a, b, c)\n",
        "else:\n",
        "    print(\"Tribonacci sequence:\", a, b, c, end=\" \")\n",
        "\n",
        "    # Generate remaining terms\n",
        "    for i in range(4, n + 1):\n",
        "        d = a + b + c\n",
        "        print(d, end=\" \")\n",
        "        a, b, c = b, c, d\n"
      ],
      "metadata": {
        "id": "GGDVvg8OhMeT",
        "colab": {
          "base_uri": "https://localhost:8080/"
        },
        "outputId": "a3bff817-6e1d-48b2-ebeb-fbe5e568f1df"
      },
      "execution_count": 13,
      "outputs": [
        {
          "output_type": "stream",
          "name": "stdout",
          "text": [
            "Enter the number of terms: 6\n",
            "Tribonacci sequence: 0 1 1 2 4 7 "
          ]
        }
      ]
    }
  ]
}