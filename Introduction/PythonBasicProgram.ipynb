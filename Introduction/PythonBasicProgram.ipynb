{
  "nbformat": 4,
  "nbformat_minor": 0,
  "metadata": {
    "colab": {
      "provenance": []
    },
    "kernelspec": {
      "name": "python3",
      "display_name": "Python 3"
    },
    "language_info": {
      "name": "python"
    }
  },
  "cells": [
    {
      "cell_type": "markdown",
      "source": [
        "# PYTHON BASIC PROGRAM\n",
        "\n",
        "1. WPP to read a string and convert all even indexed values into upper case.\n",
        "2. WPP to read a string and convert all odd indexed values into upper case.\n",
        "3. WPP to find sum of all elements present in a list\n",
        "4. WPP to find max of two numbers\n",
        "5. WPP to find min of two numbers\n",
        "6. WPP to find max of three numbers\n",
        "7. WPP to find min of three numbers\n",
        "8. WPP to find max of four numbers\n",
        "9. WPP to find min of four numbers\n",
        "10. WPP to find max of five numbers\n",
        "11. WPP to find min of five numbers\n",
        "12. WPP to find difference between max and min of five numbers\n",
        "13. WPP to find factorial of the given number\n",
        "14. WPP to check whether the given number is prime or not.\n",
        "15. WPP to extract digits present in the given number.\n",
        "16. sum of digits present in the given number\n",
        "17. reverse of the given number\n",
        "18. The given number is paliandrome number or not\n",
        "19. check whether the given digit is there in the number or not"
      ],
      "metadata": {
        "id": "PtRx84-HcmEk"
      }
    },
    {
      "cell_type": "markdown",
      "source": [
        "-------\n",
        "\n",
        "## Problem Statement -1\n",
        "\n",
        "### Write a program  to read a string from the user and convert all characters at **even indices** into **uppercase** while keeping the characters at **odd indices** unchanged.  \n",
        "\n",
        "\n",
        "### Example  \n",
        "\n",
        "For string \"abc\":  \n",
        "- `s[0] = a` → uppercase → `A`  \n",
        "- `s[1] = b` → unchanged → `b`  \n",
        "- `s[2] = c` → uppercase → `C`  \n",
        "\n",
        "Final output → `AbC`  \n",
        "\n",
        "\n",
        "  \n",
        "\n"
      ],
      "metadata": {
        "id": "cDAplxCLZTBf"
      }
    },
    {
      "cell_type": "code",
      "source": [
        "st=input(\"Enter the string : \")   #abc\n",
        "s=[]\n",
        "\n",
        "for i in  st:                          # i=a,b,c\n",
        "  if st.index(i)%2==0:                 # 0,1,0\n",
        "    s.append(i.upper())                # ['A','b','C']\n",
        "  else:\n",
        "    s.append(i)\n",
        "\n",
        "print(\"\".join(s))"
      ],
      "metadata": {
        "id": "yijASlfLap6z",
        "colab": {
          "base_uri": "https://localhost:8080/"
        },
        "outputId": "523f1ebd-2c74-40e1-a2c3-6a6acdb8521f"
      },
      "execution_count": 5,
      "outputs": [
        {
          "output_type": "stream",
          "name": "stdout",
          "text": [
            "Enter the string : abc\n",
            "AbC\n"
          ]
        }
      ]
    },
    {
      "cell_type": "code",
      "source": [
        "# Input from user\n",
        "st = input(\"Enter the string: \")  # Example input: abc\n",
        "\n",
        "# Empty list to store characters\n",
        "s = []\n",
        "\n",
        "# Loop through the string with index\n",
        "for idx, char in enumerate(st):  # idx=0,1,2 ; char='a','b','c'\n",
        "    if idx % 2 == 0:             # check if index is even\n",
        "        s.append(char.upper())   # convert char to uppercase and append\n",
        "    else:\n",
        "        s.append(char)           # append char as it is\n",
        "\n",
        "# Join the list into a single string and print\n",
        "print(\"\".join(s))\n"
      ],
      "metadata": {
        "colab": {
          "base_uri": "https://localhost:8080/"
        },
        "id": "atbTE0ACnqem",
        "outputId": "93829fb4-74e2-4650-fad9-c76092da05bf"
      },
      "execution_count": 6,
      "outputs": [
        {
          "output_type": "stream",
          "name": "stdout",
          "text": [
            "Enter the string: abc\n",
            "AbC\n"
          ]
        }
      ]
    },
    {
      "cell_type": "markdown",
      "source": [
        "-----\n",
        "\n",
        "## Problem Statement -2\n",
        "\n",
        "### Write a program  to read a string from the user and convert all characters at **odd indices** into **uppercase** while keeping the characters at **even indices** unchanged.  \n",
        "\n",
        "\n",
        "\n",
        "### Example  \n",
        "\n",
        "For string \"abc\":  \n",
        "- `s[0] = a` → unchanged → `a`  \n",
        "- `s[1] = b` → uppercase → `B`  \n",
        "- `s[2] = c` → unchanged → `c`  \n",
        "\n",
        "Final output → `aBc`  \n",
        "\n",
        "\n"
      ],
      "metadata": {
        "id": "Cn2jduB2ZS1E"
      }
    },
    {
      "cell_type": "code",
      "source": [
        "st=input(\"Enter the string : \")   #abc\n",
        "s=[]\n",
        "\n",
        "for i in  st:                          # i=a,b,c\n",
        "  if st.index(i)%2!=0:                 # 0,1,0\n",
        "    s.append(i.upper())                # ['a','B','c']\n",
        "  else:\n",
        "    s.append(i)\n",
        "\n",
        "print(\"\".join(s))"
      ],
      "metadata": {
        "id": "4McqAmVja21I",
        "colab": {
          "base_uri": "https://localhost:8080/"
        },
        "outputId": "f210e758-b10e-431f-f8a0-58fba19aadda"
      },
      "execution_count": 7,
      "outputs": [
        {
          "output_type": "stream",
          "name": "stdout",
          "text": [
            "Enter the string : abc\n",
            "aBc\n"
          ]
        }
      ]
    },
    {
      "cell_type": "markdown",
      "source": [
        "------\n",
        "\n",
        "## Problem Statement -3\n",
        "\n",
        "### Write a program to find the sum of all elements present in a list.  \n",
        "\n",
        "### Example  \n",
        "\n",
        "For list [1, 2, 3, 4, 5]:  \n",
        "- Sum = 1 + 2 + 3 + 4 + 5 = 15  \n",
        "\n",
        "Final output → 15  \n"
      ],
      "metadata": {
        "id": "DFHnzdEeZSxr"
      }
    },
    {
      "cell_type": "code",
      "source": [
        "lst=[1, 2, 3, 4, 5]\n",
        "\n",
        "total=0\n",
        "for i in lst:\n",
        " total=total+i\n",
        "\n",
        "print(total)\n"
      ],
      "metadata": {
        "colab": {
          "base_uri": "https://localhost:8080/"
        },
        "id": "Alnt1ldspzJ_",
        "outputId": "f8027476-96c7-42c0-e754-58f946ef1e7e"
      },
      "execution_count": 15,
      "outputs": [
        {
          "output_type": "stream",
          "name": "stdout",
          "text": [
            "15\n"
          ]
        }
      ]
    },
    {
      "cell_type": "code",
      "source": [
        "ls = [1, 2, 3, 4, 5]   # a list of numbers\n",
        "print(sum(ls))          # sum() adds all elements of the list\n"
      ],
      "metadata": {
        "colab": {
          "base_uri": "https://localhost:8080/"
        },
        "id": "lFi24C4UqJLj",
        "outputId": "b46e2926-3bc6-4b62-f444-f76736586ea5"
      },
      "execution_count": 16,
      "outputs": [
        {
          "output_type": "stream",
          "name": "stdout",
          "text": [
            "15\n"
          ]
        }
      ]
    },
    {
      "cell_type": "markdown",
      "source": [
        "-----\n",
        "\n",
        "## Problem Statement -4\n",
        "\n",
        "### Write a program to find the maximum of two numbers.  \n",
        "\n",
        "### Example  \n",
        "\n",
        "For numbers 10 and 20:  \n",
        "- Max(10, 20) = 20  \n",
        "\n",
        "Final output → 20  \n"
      ],
      "metadata": {
        "id": "qtuu0vdGZSuy"
      }
    },
    {
      "cell_type": "code",
      "source": [
        "a,b=10,20\n",
        "if a<b:\n",
        "  print(b)\n"
      ],
      "metadata": {
        "id": "J51YvDMlbIgz",
        "colab": {
          "base_uri": "https://localhost:8080/"
        },
        "outputId": "106da189-4451-4d33-9864-1fa6344df85e"
      },
      "execution_count": 25,
      "outputs": [
        {
          "output_type": "stream",
          "name": "stdout",
          "text": [
            "20\n"
          ]
        }
      ]
    },
    {
      "cell_type": "code",
      "source": [
        "a,b=10,20\n",
        "print(max(a,b))"
      ],
      "metadata": {
        "colab": {
          "base_uri": "https://localhost:8080/"
        },
        "id": "KCI0_jxiqrIs",
        "outputId": "52c0f2c4-17a1-4b5d-daa6-0ba59621cb0f"
      },
      "execution_count": 17,
      "outputs": [
        {
          "output_type": "stream",
          "name": "stdout",
          "text": [
            "20\n"
          ]
        }
      ]
    },
    {
      "cell_type": "markdown",
      "source": [
        "-----\n",
        "\n",
        "## Problem Statement -5\n",
        "\n",
        "### Write a program to find the minimum of two numbers.  \n",
        "\n",
        "### Example  \n",
        "\n",
        "For numbers 10 and 20:  \n",
        "- Min(10, 20) = 10  \n",
        "\n",
        "Final output → 10  \n"
      ],
      "metadata": {
        "id": "jwDti6h1ZSsM"
      }
    },
    {
      "cell_type": "code",
      "source": [
        "a,b=10,20\n",
        "if a<b:\n",
        "  print(a)\n"
      ],
      "metadata": {
        "id": "mZgCtp6QbQc1",
        "colab": {
          "base_uri": "https://localhost:8080/"
        },
        "outputId": "5a8fe33a-e82e-4cee-97c7-f27198061a2e"
      },
      "execution_count": 24,
      "outputs": [
        {
          "output_type": "stream",
          "name": "stdout",
          "text": [
            "10\n"
          ]
        }
      ]
    },
    {
      "cell_type": "code",
      "source": [
        "a,b=10,20\n",
        "print(min(a,b))"
      ],
      "metadata": {
        "colab": {
          "base_uri": "https://localhost:8080/"
        },
        "id": "o5jiCWfrrI7n",
        "outputId": "9e860c52-0b0a-44c5-ccab-5e377519ba0b"
      },
      "execution_count": 21,
      "outputs": [
        {
          "output_type": "stream",
          "name": "stdout",
          "text": [
            "10\n"
          ]
        }
      ]
    },
    {
      "cell_type": "markdown",
      "source": [
        "----\n",
        "## Problem Statement -6\n",
        "\n",
        "### Write a program to find the maximum of three numbers.  \n",
        "\n",
        "### Example  \n",
        "\n",
        "For numbers 10, 25, and 15:  \n",
        "- Max(10, 25, 15) = 25  \n",
        "\n",
        "Final output → 25  \n"
      ],
      "metadata": {
        "id": "f4c5IK40bQ0g"
      }
    },
    {
      "cell_type": "code",
      "source": [
        "a,b,c=6,2,8\n",
        "print(max(a,b,c))"
      ],
      "metadata": {
        "id": "YJKBiM31bREa",
        "colab": {
          "base_uri": "https://localhost:8080/"
        },
        "outputId": "42c62b31-1e06-4233-daef-5287df1a31c6"
      },
      "execution_count": 26,
      "outputs": [
        {
          "output_type": "stream",
          "name": "stdout",
          "text": [
            "8\n"
          ]
        }
      ]
    },
    {
      "cell_type": "code",
      "source": [
        "\n",
        "a,b,c=6,2,8\n",
        "if a>=b and a>c:\n",
        "  print(a)\n",
        "elif b>=a and b>=c:\n",
        "  print(b)\n",
        "else:\n",
        "  print(c)"
      ],
      "metadata": {
        "colab": {
          "base_uri": "https://localhost:8080/"
        },
        "id": "60O8lzAjrtic",
        "outputId": "15f54a30-7251-4749-962e-783b1e26f029"
      },
      "execution_count": 28,
      "outputs": [
        {
          "output_type": "stream",
          "name": "stdout",
          "text": [
            "2\n"
          ]
        }
      ]
    },
    {
      "cell_type": "code",
      "source": [
        "a,b,c=6,2,8\n",
        "\n",
        "print( a if a >= b and a >= c else (b if b >= c else c))    # Ternary Operator"
      ],
      "metadata": {
        "colab": {
          "base_uri": "https://localhost:8080/"
        },
        "id": "H0Qo7mWhrtlx",
        "outputId": "51f95459-08e1-4ec3-e9e3-acde750e08c4"
      },
      "execution_count": 29,
      "outputs": [
        {
          "output_type": "stream",
          "name": "stdout",
          "text": [
            "8\n"
          ]
        }
      ]
    },
    {
      "cell_type": "markdown",
      "source": [
        "------\n",
        "\n",
        "## Problem Statement -7\n",
        "\n",
        "### Write a program to find the minimum of three numbers.  \n",
        "\n",
        "### Example  \n",
        "\n",
        "For numbers 10, 25, and 15:  \n",
        "- Min(10, 25, 15) = 10  \n",
        "\n",
        "Final output → 10  \n"
      ],
      "metadata": {
        "id": "IxmCT03IbRTl"
      }
    },
    {
      "cell_type": "code",
      "source": [
        "a,b,c=6,2,8\n",
        "print(min(a,b,c))"
      ],
      "metadata": {
        "id": "NSIhx2xgbRv8",
        "colab": {
          "base_uri": "https://localhost:8080/"
        },
        "outputId": "67d7b09a-cfc6-4a9b-e900-695724ae1362"
      },
      "execution_count": 30,
      "outputs": [
        {
          "output_type": "stream",
          "name": "stdout",
          "text": [
            "2\n"
          ]
        }
      ]
    },
    {
      "cell_type": "code",
      "source": [
        "\n",
        "a,b,c=6,2,8\n",
        "if a<=b and a<=c:        # a<b,c\n",
        "  print(a)\n",
        "elif b<=a and b<=c:      #b<a,c\n",
        "  print(b)\n",
        "else:\n",
        "  print(c)"
      ],
      "metadata": {
        "colab": {
          "base_uri": "https://localhost:8080/"
        },
        "id": "Y6q7jWm9tjta",
        "outputId": "85c1eead-8b36-4a1f-d8e6-662dc3a8281f"
      },
      "execution_count": 31,
      "outputs": [
        {
          "output_type": "stream",
          "name": "stdout",
          "text": [
            "2\n"
          ]
        }
      ]
    },
    {
      "cell_type": "code",
      "source": [
        "a,b,c=6,2,8\n",
        "\n",
        "print( a if a <= b and a <= c else (b if b <= c else c))    # Ternary Operator"
      ],
      "metadata": {
        "colab": {
          "base_uri": "https://localhost:8080/"
        },
        "id": "GK4eD-QVtjym",
        "outputId": "29492cd3-31f4-40c5-a607-d6aeb6501b6d"
      },
      "execution_count": 32,
      "outputs": [
        {
          "output_type": "stream",
          "name": "stdout",
          "text": [
            "2\n"
          ]
        }
      ]
    },
    {
      "cell_type": "markdown",
      "source": [
        "-------\n",
        "\n",
        "## Problem Statement -8\n",
        "\n",
        "### Write a program to find the maximum of four numbers.  \n",
        "\n",
        "### Example  \n",
        "\n",
        "For numbers 12, 7, 19, and 3:  \n",
        "- Max(12, 7, 19, 3) = 19  \n",
        "\n",
        "Final output → 19  \n"
      ],
      "metadata": {
        "id": "Gm-rNvZ2bR8s"
      }
    },
    {
      "cell_type": "code",
      "source": [
        "a,b,c,d=6,2,8,13\n",
        "print(max(a,b,c,d))"
      ],
      "metadata": {
        "id": "4PAkSZkbbSKx",
        "colab": {
          "base_uri": "https://localhost:8080/"
        },
        "outputId": "6779b1c7-170b-4d08-a346-31091ed729ba"
      },
      "execution_count": 34,
      "outputs": [
        {
          "output_type": "stream",
          "name": "stdout",
          "text": [
            "13\n"
          ]
        }
      ]
    },
    {
      "cell_type": "code",
      "source": [
        "\n",
        "a,b,c,d=6,2,8,13\n",
        "if a>=b and a>=c and a>=d:\n",
        "  print(a)\n",
        "elif b>=a and b>=c and b>=d:\n",
        "  print(b)\n",
        "elif c>=a and c>=b and c>=d:\n",
        "  print(b)\n",
        "else:\n",
        "  print(d)"
      ],
      "metadata": {
        "colab": {
          "base_uri": "https://localhost:8080/"
        },
        "id": "iJBdow2fua3E",
        "outputId": "996bac09-93f2-4211-9395-8156ca800b7d"
      },
      "execution_count": 35,
      "outputs": [
        {
          "output_type": "stream",
          "name": "stdout",
          "text": [
            "13\n"
          ]
        }
      ]
    },
    {
      "cell_type": "code",
      "source": [
        "# Define four numbers\n",
        "a, b, c, d = 6, 2, 8, 4\n",
        "\n",
        "# Nested ternary to find the maximum\n",
        "maximum = a if a >= b and a >= c and a >= d else \\\n",
        "          b if b >= a and b >= c and b >= d else \\\n",
        "          c if c >= a and c >= b and c >= d else d\n",
        "\n",
        "print(\"The maximum number is:\", maximum)\n",
        ""
      ],
      "metadata": {
        "colab": {
          "base_uri": "https://localhost:8080/"
        },
        "id": "OJCRSBY7ubBX",
        "outputId": "477606c1-70c9-481a-bbd4-5121e51b488a"
      },
      "execution_count": 36,
      "outputs": [
        {
          "output_type": "stream",
          "name": "stdout",
          "text": [
            "The maximum number is: 8\n"
          ]
        }
      ]
    },
    {
      "cell_type": "markdown",
      "source": [
        "--------\n",
        "\n",
        "## Problem Statement -9\n",
        "\n",
        "### Write a program to find the minimum of four numbers.  \n",
        "\n",
        "### Example  \n",
        "\n",
        "For numbers 12, 7, 19, and 3:  \n",
        "- Min(12, 7, 19, 3) = 3  \n",
        "\n",
        "Final output → 3  \n"
      ],
      "metadata": {
        "id": "14JK0JDabSWv"
      }
    },
    {
      "cell_type": "code",
      "source": [
        "a,b,c,d=6,2,8,13\n",
        "print(min(a,b,c,d))"
      ],
      "metadata": {
        "id": "H4zHgxP_bSk0"
      },
      "execution_count": null,
      "outputs": []
    },
    {
      "cell_type": "code",
      "source": [
        "\n",
        "a,b,c,d=6,2,8,13\n",
        "if a<=b and a<=c and a<=d:\n",
        "  print(a)\n",
        "elif b<=a and b<=c and b<=d:\n",
        "  print(b)\n",
        "elif c<=a and c<=b and c<=d:\n",
        "  print(b)\n",
        "else:\n",
        "  print(d)"
      ],
      "metadata": {
        "colab": {
          "base_uri": "https://localhost:8080/"
        },
        "id": "vNj8ldID8sVI",
        "outputId": "d740573b-65ec-4596-c7c6-73b2d3db9033"
      },
      "execution_count": 37,
      "outputs": [
        {
          "output_type": "stream",
          "name": "stdout",
          "text": [
            "2\n"
          ]
        }
      ]
    },
    {
      "cell_type": "code",
      "source": [
        "# Define four numbers\n",
        "a, b, c, d = 6, 2, 8, 4\n",
        "\n",
        "# Nested ternary to find the maximum\n",
        "maximum = a if a <= b and a <= c and a <= d else \\\n",
        "          b if b <= a and b <= c and b <= d else \\\n",
        "          c if c <= a and c <= b and c <= d else d\n",
        "\n",
        "print(\"The maximum number is:\", maximum)\n",
        ""
      ],
      "metadata": {
        "colab": {
          "base_uri": "https://localhost:8080/"
        },
        "id": "AdDnW0bu8sYF",
        "outputId": "0c04876b-6bdb-44ee-b6af-53cd19b45271"
      },
      "execution_count": 38,
      "outputs": [
        {
          "output_type": "stream",
          "name": "stdout",
          "text": [
            "The maximum number is: 2\n"
          ]
        }
      ]
    },
    {
      "cell_type": "markdown",
      "source": [
        "\n",
        "--------\n",
        "\n",
        "\n",
        "## Problem Statement -10\n",
        "\n",
        "### Write a program to find the maximum of five numbers.  \n",
        "\n",
        "### Example  \n",
        "\n",
        "For numbers 4, 18, 9, 23, and 11:  \n",
        "- Max(4, 18, 9, 23, 11) = 23  \n",
        "\n",
        "Final output → 23  \n"
      ],
      "metadata": {
        "id": "vku0eFVfbSwh"
      }
    },
    {
      "cell_type": "code",
      "source": [
        "a, b, c, d, e = 10, 25, 15, 30, 20\n",
        "\n",
        "maximum = max(a, b, c, d, e)\n",
        "\n",
        "print(\"The maximum number is:\", maximum)\n"
      ],
      "metadata": {
        "id": "hVAv9hxzbTAr",
        "colab": {
          "base_uri": "https://localhost:8080/"
        },
        "outputId": "fe9a25d2-a25b-40b5-9b29-b17f98b75685"
      },
      "execution_count": 39,
      "outputs": [
        {
          "output_type": "stream",
          "name": "stdout",
          "text": [
            "The maximum number is: 30\n"
          ]
        }
      ]
    },
    {
      "cell_type": "code",
      "source": [
        "a, b, c, d, e = 10, 25, 15, 30, 20\n",
        "\n",
        "\n",
        "\n",
        "# Find maximum using if-elif-else\n",
        "if a >= b and a >= c and a >= d and a >= e:\n",
        "    maximum = a\n",
        "elif b >= a and b >= c and b >= d and b >= e:\n",
        "    maximum = b\n",
        "elif c >= a and c >= b and c >= d and c >= e:\n",
        "    maximum = c\n",
        "elif d >= a and d >= b and d >= c and d >= e:\n",
        "    maximum = d\n",
        "else:\n",
        "    maximum = e\n",
        "\n",
        "print(\"The maximum number is:\", maximum)\n",
        "\n"
      ],
      "metadata": {
        "colab": {
          "base_uri": "https://localhost:8080/"
        },
        "id": "ALrf_O_N9TUj",
        "outputId": "beeabb45-34e7-4734-976c-7e3bfbb9ecf5"
      },
      "execution_count": 41,
      "outputs": [
        {
          "output_type": "stream",
          "name": "stdout",
          "text": [
            "The maximum number is: 30\n"
          ]
        }
      ]
    },
    {
      "cell_type": "code",
      "source": [
        "a, b, c, d, e = 10, 25, 15, 30, 20\n",
        "\n",
        "# Nested ternary operator to find maximum\n",
        "maximum = a if a>=b and a>=c and a>=d and a>=e else \\\n",
        "          b if b>=a and b>=c and b>=d and b>=e else \\\n",
        "          c if c>=a and c>=b and c>=d and c>=e else \\\n",
        "          d if d>=a and d>=b and d>=c and d>=e else e\n",
        "\n",
        "print(\"The maximum number is:\", maximum)\n"
      ],
      "metadata": {
        "colab": {
          "base_uri": "https://localhost:8080/"
        },
        "id": "XMOg7TpC9TbA",
        "outputId": "cce77698-98f4-4c25-bcf6-ef7f8bda42f2"
      },
      "execution_count": 40,
      "outputs": [
        {
          "output_type": "stream",
          "name": "stdout",
          "text": [
            "The maximum number is: 30\n"
          ]
        }
      ]
    },
    {
      "cell_type": "markdown",
      "source": [
        "-----\n",
        "\n",
        "## Problem Statement -11\n",
        "\n",
        "### Write a program to find the minimum of five numbers.  \n",
        "\n",
        "### Example  \n",
        "\n",
        "For numbers 4, 18, 9, 23, and 11:  \n",
        "- Min(4, 18, 9, 23, 11) = 4  \n",
        "\n",
        "Final output → 4  \n"
      ],
      "metadata": {
        "id": "dMYPHQL8bTP7"
      }
    },
    {
      "cell_type": "code",
      "source": [
        "a, b, c, d, e = 10, 25, 5, 30, 20\n",
        "\n",
        "minimum = min(a, b, c, d, e)\n",
        "\n",
        "print(\"The minimum number is:\", minimum)\n"
      ],
      "metadata": {
        "colab": {
          "base_uri": "https://localhost:8080/"
        },
        "id": "JvEu9-Aa9msG",
        "outputId": "c5859dc4-936d-4b0b-dba1-fc807e1ca108"
      },
      "execution_count": 44,
      "outputs": [
        {
          "output_type": "stream",
          "name": "stdout",
          "text": [
            "The minimum number is: 5\n"
          ]
        }
      ]
    },
    {
      "cell_type": "code",
      "source": [
        "a, b, c, d, e = 10, 25, 5, 30, 20\n",
        "# Find minimum using if-elif-else\n",
        "if a <= b and a <= c and a <= d and a <= e:\n",
        "    minimum = a\n",
        "elif b <= a and b <= c and b <= d and b <= e:\n",
        "    minimum = b\n",
        "elif c <= a and c <= b and c <= d and c <= e:\n",
        "    minimum = c\n",
        "elif d <= a and d <= b and d <= c and d <= e:\n",
        "    minimum = d\n",
        "else:\n",
        "    minimum = e\n",
        "\n",
        "print(\"The minimum number is:\", minimum)\n"
      ],
      "metadata": {
        "id": "5mfJQ8qobTeW",
        "colab": {
          "base_uri": "https://localhost:8080/"
        },
        "outputId": "3a4b49e2-2591-4e23-999c-4ac39df6809a"
      },
      "execution_count": 43,
      "outputs": [
        {
          "output_type": "stream",
          "name": "stdout",
          "text": [
            "The minimum number is: 5\n"
          ]
        }
      ]
    },
    {
      "cell_type": "code",
      "source": [
        "a, b, c, d, e = 10, 25, 5, 30, 20\n",
        "\n",
        "# Nested ternary operator to find minimum\n",
        "minimum = a if a<=b and a<=c and a<=d and a<=e else \\\n",
        "          b if b<=a and b<=c and b<=d and b<=e else \\\n",
        "          c if c<=a and c<=b and c<=d and c<=e else \\\n",
        "          d if d<=a and d<=b and d<=c and d<=e else e\n",
        "\n",
        "print(\"The minimum number is:\", minimum)\n"
      ],
      "metadata": {
        "colab": {
          "base_uri": "https://localhost:8080/"
        },
        "id": "XyUB1IiO9mv1",
        "outputId": "5060bed0-5d52-451a-a49a-5fc07aeafafa"
      },
      "execution_count": 42,
      "outputs": [
        {
          "output_type": "stream",
          "name": "stdout",
          "text": [
            "The minimum number is: 5\n"
          ]
        }
      ]
    },
    {
      "cell_type": "markdown",
      "source": [
        "---------\n",
        "\n",
        "## Problem Statement -12\n",
        "\n",
        "### Write a program to find the difference between the maximum and minimum of five numbers.  \n",
        "\n",
        "### Example  \n",
        "\n",
        "For numbers 4, 18, 9, 23, and 11:  \n",
        "- Max = 23  \n",
        "- Min = 4  \n",
        "- Difference = 23 - 4 = 19  \n",
        "\n",
        "Final output → 19  \n"
      ],
      "metadata": {
        "id": "cc4ruZ-FbTso"
      }
    },
    {
      "cell_type": "code",
      "source": [
        "a, b, c, d, e = 10, 25, 5, 30, 20\n",
        "\n",
        "minimum = min(a, b, c, d, e)\n",
        "maximum = max(a, b, c, d, e)\n",
        "print(f\"Maximum is : {maximum}  \\nMinimim is : {minimum} \\n\")\n",
        "\n",
        "\n",
        "print(\"Differnce between maximum and minimun number is:\", maximum-minimum)\n",
        "\n",
        "\n"
      ],
      "metadata": {
        "id": "PR9iZqYKbUAe",
        "colab": {
          "base_uri": "https://localhost:8080/"
        },
        "outputId": "9cb49135-2948-40f5-a7ff-c2029c64480f"
      },
      "execution_count": 48,
      "outputs": [
        {
          "output_type": "stream",
          "name": "stdout",
          "text": [
            "Maximum is : 30  \n",
            "Minimim is : 5 \n",
            "\n",
            "Differnce between maximum and minimun number is: 25\n"
          ]
        }
      ]
    },
    {
      "cell_type": "markdown",
      "source": [
        "-------\n",
        "\n",
        "## Problem Statement -13\n",
        "\n",
        "### Write a program to find the factorial of the given number.  \n",
        "\n",
        "### Example  \n",
        "\n",
        "For number 5:  \n",
        "- 5! = 5 × 4 × 3 × 2 × 1 = 120  \n",
        "\n",
        "Final output → 120  \n"
      ],
      "metadata": {
        "id": "J7hK7lQ9bUVT"
      }
    },
    {
      "cell_type": "code",
      "source": [
        "inpt=int(input(\"Enter the number : \"))\n",
        "\n",
        "fact=1\n",
        "for i in range(1,inpt+1):\n",
        "  fact*=i\n",
        "print(f\"Factroial of {inpt} is : {fact}\")\n"
      ],
      "metadata": {
        "id": "Ct5wkR2UbUis",
        "colab": {
          "base_uri": "https://localhost:8080/"
        },
        "outputId": "bddc3042-e488-4e65-94f7-8cf7a14b913b"
      },
      "execution_count": 52,
      "outputs": [
        {
          "output_type": "stream",
          "name": "stdout",
          "text": [
            "Enter the number : 5\n",
            "Factroial of 5 is : 120\n"
          ]
        }
      ]
    },
    {
      "cell_type": "code",
      "source": [
        "# Input a number from the user\n",
        "num = int(input(\"Enter a number: \"))\n",
        "\n",
        "# Initialize factorial\n",
        "factorial = 1\n",
        "\n",
        "# Check for negative numbers\n",
        "if num < 0:\n",
        "    print(\"Factorial does not exist for negative numbers.\")\n",
        "elif num == 0:\n",
        "    print(\"The factorial of 0 is 1\")\n",
        "else:\n",
        "    # Calculate factorial using a for loop\n",
        "    for i in range(1, num + 1):\n",
        "        factorial *= i\n",
        "    print(f\"The factorial of {num} is {factorial}\")\n"
      ],
      "metadata": {
        "colab": {
          "base_uri": "https://localhost:8080/"
        },
        "id": "2iz0GGaV_FIN",
        "outputId": "15d42e6c-93e1-4576-afdb-56c645cea64c"
      },
      "execution_count": 53,
      "outputs": [
        {
          "output_type": "stream",
          "name": "stdout",
          "text": [
            "Enter a number: 5\n",
            "The factorial of 5 is 120\n"
          ]
        }
      ]
    },
    {
      "cell_type": "code",
      "source": [
        "# Recursive function to calculate factorial\n",
        "def factorial(n):\n",
        "    if n == 0 or n == 1:\n",
        "        return 1\n",
        "    else:\n",
        "        return n * factorial(n - 1)\n",
        "\n",
        "# Input from the user\n",
        "num = int(input(\"Enter a number: \"))\n",
        "\n",
        "# Check for negative numbers\n",
        "if num < 0:\n",
        "    print(\"Factorial does not exist for negative numbers.\")\n",
        "else:\n",
        "    print(f\"The factorial of {num} is {factorial(num)}\")\n"
      ],
      "metadata": {
        "colab": {
          "base_uri": "https://localhost:8080/"
        },
        "id": "pjb_qRPg_FQC",
        "outputId": "5f5a2fd0-37bb-4298-995f-1ab92c2fda32"
      },
      "execution_count": 54,
      "outputs": [
        {
          "output_type": "stream",
          "name": "stdout",
          "text": [
            "Enter a number: 5\n",
            "The factorial of 5 is 120\n"
          ]
        }
      ]
    },
    {
      "cell_type": "markdown",
      "source": [
        "------\n",
        "\n",
        "## Problem Statement -14\n",
        "\n",
        "### Write a program to check whether the given number is prime or not.  \n",
        "\n",
        "### Example  \n",
        "\n",
        "For number 7:  \n",
        "- Divisors of 7 → 1 and 7 only  \n",
        "- Hence 7 is a prime number  \n",
        "\n",
        "Final output → Prime  \n"
      ],
      "metadata": {
        "id": "W_DgvczebUxg"
      }
    },
    {
      "cell_type": "code",
      "source": [
        "num = int(input(\"Enter the number: \"))\n",
        "\n",
        "if num <= 1:\n",
        "    print(f\"Number {num} is not prime\")\n",
        "else:\n",
        "    is_prime = True\n",
        "    for i in range(2, int(num**0.5) + 1):  # check divisors up to sqrt(num)\n",
        "        if num % i == 0:\n",
        "            is_prime = False\n",
        "            break\n",
        "    if is_prime:\n",
        "        print(f\"Number {num} is prime\")\n",
        "    else:\n",
        "        print(f\"Number {num} is not prime\")\n"
      ],
      "metadata": {
        "id": "L5uTHqC9cJoC",
        "colab": {
          "base_uri": "https://localhost:8080/"
        },
        "outputId": "632016b2-7c6c-4644-9675-76b73ee36ba9"
      },
      "execution_count": 66,
      "outputs": [
        {
          "output_type": "stream",
          "name": "stdout",
          "text": [
            "Enter the number: 12\n",
            "Number 12 is not prime\n"
          ]
        }
      ]
    },
    {
      "cell_type": "markdown",
      "source": [
        "------\n",
        "\n",
        "## Problem Statement -15\n",
        "\n",
        "### Write a program to extract digits present in the given number.  \n",
        "\n",
        "### Example  \n",
        "\n",
        "For number 4725:  \n",
        "- Digits = 4, 7, 2, 5  \n",
        "\n",
        "Final output → 4 7 2 5  \n"
      ],
      "metadata": {
        "id": "KsKd7dC2cJ8h"
      }
    },
    {
      "cell_type": "code",
      "source": [
        "num=input(\"Enter the number :\")\n",
        "lst=list(num)\n",
        "for i in lst:\n",
        "  print(i,end=\" \")\n"
      ],
      "metadata": {
        "id": "sO4n1PK0cKJb",
        "colab": {
          "base_uri": "https://localhost:8080/"
        },
        "outputId": "e8b20ff0-f005-47c2-e964-44b5d7b7b6aa"
      },
      "execution_count": 67,
      "outputs": [
        {
          "output_type": "stream",
          "name": "stdout",
          "text": [
            "Enter the number :85293\n",
            "8 5 2 9 3 "
          ]
        }
      ]
    },
    {
      "cell_type": "code",
      "source": [
        "# Input number from the user\n",
        "num = int(input(\"Enter a number: \"))\n",
        "\n",
        "# Make sure number is positive\n",
        "num = abs(num)\n",
        "\n",
        "print(\"Digits in the number:\")\n",
        "\n",
        "while num > 0:\n",
        "    digit = num % 10       # extract last digit\n",
        "    print(digit, end=\" \")  # print digit\n",
        "    num = num // 10        # remove last digit\n",
        "\n"
      ],
      "metadata": {
        "colab": {
          "base_uri": "https://localhost:8080/"
        },
        "id": "njxT1HhxDJKx",
        "outputId": "e629d9b8-70ff-4743-a446-91b2364dfd47"
      },
      "execution_count": 68,
      "outputs": [
        {
          "output_type": "stream",
          "name": "stdout",
          "text": [
            "Enter a number: 556358\n",
            "Digits in the number:\n",
            "8 5 3 6 5 5 "
          ]
        }
      ]
    },
    {
      "cell_type": "markdown",
      "source": [
        "--------\n",
        "\n",
        "## Problem Statement -16\n",
        "\n",
        "### Write a program to find the sum of digits present in the given number.  \n",
        "\n",
        "### Example  \n",
        "\n",
        "For number 4725:  \n",
        "- Sum = 4 + 7 + 2 + 5 = 18  \n",
        "\n",
        "Final output → 18  \n"
      ],
      "metadata": {
        "id": "n-ehPhKacKWY"
      }
    },
    {
      "cell_type": "code",
      "source": [
        "# Input number from the user\n",
        "num = int(input(\"Enter a number: \"))\n",
        "\n",
        "t=0\n",
        "while num > 0:\n",
        "    digit = num % 10\n",
        "    t+=digit\n",
        "    num = num // 10\n",
        "\n",
        "print(\"Sum of Digits in the number:\",t)\n",
        "\n"
      ],
      "metadata": {
        "id": "jFf2KSs4cKja",
        "colab": {
          "base_uri": "https://localhost:8080/"
        },
        "outputId": "18fd3ccb-406f-458f-ac09-965ea2da4707"
      },
      "execution_count": 69,
      "outputs": [
        {
          "output_type": "stream",
          "name": "stdout",
          "text": [
            "Enter a number: 4725\n",
            "Sum of Digits in the number: 18\n"
          ]
        }
      ]
    },
    {
      "cell_type": "markdown",
      "source": [
        "----\n",
        "\n",
        "## Problem Statement -17\n",
        "\n",
        "### Write a program to find the reverse of the given number.  \n",
        "\n",
        "### Example  \n",
        "\n",
        "For number 4725:  \n",
        "- Reverse = 5274  \n",
        "\n",
        "Final output → 5274  \n"
      ],
      "metadata": {
        "id": "5H7lO_I2cKxd"
      }
    },
    {
      "cell_type": "code",
      "source": [
        "# Input number from the user\n",
        "num = int(input(\"Enter a number: \"))\n",
        "\n",
        "rev=0\n",
        "while num > 0:\n",
        "    digit = num % 10       # extract last digit\n",
        "    rev=rev*10+digit\n",
        "    num = num // 10        # remove last digit\n",
        "\n",
        "\n",
        "print(\"Reverse number:\",rev)\n"
      ],
      "metadata": {
        "id": "Q0wHEf4NcK-c",
        "colab": {
          "base_uri": "https://localhost:8080/"
        },
        "outputId": "8902b0e5-d647-4c1a-edc3-79270022a173"
      },
      "execution_count": 70,
      "outputs": [
        {
          "output_type": "stream",
          "name": "stdout",
          "text": [
            "Enter a number: 4725\n",
            "Reverse number: 5274\n"
          ]
        }
      ]
    },
    {
      "cell_type": "markdown",
      "source": [
        "-----\n",
        "\n",
        "## Problem Statement -18\n",
        "\n",
        "### Write a program to check whether the given number is a palindrome number or not.  \n",
        "\n",
        "### Example  \n",
        "\n",
        "For number 121:  \n",
        "- Reverse = 121 → same as original  \n",
        "- Hence 121 is a palindrome  \n",
        "\n",
        "Final output → Palindrome  \n"
      ],
      "metadata": {
        "id": "c7yhJ94PcLKd"
      }
    },
    {
      "cell_type": "code",
      "source": [
        "num = int(input(\"Enter a number: \"))\n",
        "\n",
        "# Store original number for comparison\n",
        "original_num = num\n",
        "rev = 0\n",
        "\n",
        "\n",
        "# Reverse the number\n",
        "while num > 0:\n",
        "    digit = num % 10\n",
        "    rev = rev * 10 + digit\n",
        "    num = num // 10\n",
        "\n",
        "# Check palindrome using original number\n",
        "if original_num == rev:\n",
        "    print(f\"Number {original_num} is a palindrome\")\n",
        "else:\n",
        "    print(f\"Number {original_num} is not a palindrome\")\n"
      ],
      "metadata": {
        "id": "yR4xJFDJcLYA",
        "colab": {
          "base_uri": "https://localhost:8080/"
        },
        "outputId": "773f8f8d-155b-40a4-b1c3-ca63ab24787f"
      },
      "execution_count": 77,
      "outputs": [
        {
          "output_type": "stream",
          "name": "stdout",
          "text": [
            "Enter a number: 121\n",
            "Number 121 is a palindrome\n"
          ]
        }
      ]
    },
    {
      "cell_type": "markdown",
      "source": [
        "-------\n",
        "\n",
        "## Problem Statement -19\n",
        "\n",
        "### Write a program to check whether the given digit is present in the number or not.  \n",
        "\n",
        "### Example  \n",
        "\n",
        "For number 4725 and digit 7:  \n",
        "- 7 is present in 4725  \n",
        "\n",
        "Final output → Present  \n"
      ],
      "metadata": {
        "id": "97cL0G4YcLkP"
      }
    },
    {
      "cell_type": "code",
      "source": [
        "num = int(input(\"Enter a number: \"))\n",
        "element=int(input(\"Enter the seaching element\"))\n",
        "\n",
        "lst=[]\n",
        "\n",
        "while num > 0:\n",
        "    digit = num % 10\n",
        "    lst.append(digit)\n",
        "    num = num // 10\n",
        "\n",
        "\n",
        "if element in lst:\n",
        "    print(f\"Number {element} is present\")\n",
        "else:\n",
        "    print(f\"Number {element} is not present\")\n"
      ],
      "metadata": {
        "id": "h4_RPGvsciNI",
        "colab": {
          "base_uri": "https://localhost:8080/"
        },
        "outputId": "c8b91cf8-0596-4955-b4f9-5e05650d2f03"
      },
      "execution_count": 79,
      "outputs": [
        {
          "output_type": "stream",
          "name": "stdout",
          "text": [
            "Enter a number: 4725\n",
            "Enter the seaching element7\n",
            "Number 7 is present\n"
          ]
        }
      ]
    },
    {
      "cell_type": "code",
      "source": [],
      "metadata": {
        "id": "njdcst5JHd9S"
      },
      "execution_count": null,
      "outputs": []
    }
  ]
}