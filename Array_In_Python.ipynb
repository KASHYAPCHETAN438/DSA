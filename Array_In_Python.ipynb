{
  "nbformat": 4,
  "nbformat_minor": 0,
  "metadata": {
    "colab": {
      "provenance": [],
      "authorship_tag": "ABX9TyP+Y7S8v/A0u5xXAiJt4E2v",
      "include_colab_link": true
    },
    "kernelspec": {
      "name": "python3",
      "display_name": "Python 3"
    },
    "language_info": {
      "name": "python"
    }
  },
  "cells": [
    {
      "cell_type": "markdown",
      "metadata": {
        "id": "view-in-github",
        "colab_type": "text"
      },
      "source": [
        "<a href=\"https://colab.research.google.com/github/KASHYAPCHETAN438/DSA/blob/main/Array_In_Python.ipynb\" target=\"_parent\"><img src=\"https://colab.research.google.com/assets/colab-badge.svg\" alt=\"Open In Colab\"/></a>"
      ]
    },
    {
      "cell_type": "markdown",
      "source": [
        "# Array in Python\n",
        "\n",
        "---\n",
        "\n",
        "##  1. What is an Array?\n",
        "\n",
        "An **array** is a **collection of elements of the same data type**, stored at **contiguous memory locations**.\n",
        "\n",
        "- Arrays store **multiple values** in a single variable.\n",
        "- They are **more memory-efficient** and **faster** than Python lists (for numerical data).\n",
        "- Unlike lists, arrays **cannot store mixed data types** — all elements must be of the same type.\n",
        "\n",
        "---\n",
        "\n",
        "##  2. Why Use Arrays?\n",
        "\n",
        "- To store **large amounts of similar data**  \n",
        "- To perform **mathematical or logical operations** efficiently  \n",
        "- To **save memory** compared to lists  \n",
        "- To **access elements quickly** using index  \n",
        "\n",
        "---\n",
        "\n",
        "##  3. Ways to Define Arrays in Python\n",
        "\n",
        "- There are **three main ways** to define arrays in Python:\n",
        "     \n",
        "     i) Using List\n",
        "\n",
        "     ii) Using Array module\n",
        "\n",
        "     iii) Using Numpy\n",
        "\n"
      ],
      "metadata": {
        "id": "Y0_SnAJIVxzW"
      }
    },
    {
      "cell_type": "markdown",
      "source": [
        "\n",
        "\n",
        "## ---------- Using List ------------"
      ],
      "metadata": {
        "id": "lBcIEJ0WatyG"
      }
    },
    {
      "cell_type": "code",
      "execution_count": 1,
      "metadata": {
        "colab": {
          "base_uri": "https://localhost:8080/",
          "height": 0
        },
        "id": "03gu-9BEVgcK",
        "outputId": "de3888f7-8e4c-4233-e97d-0054803e6af8"
      },
      "outputs": [
        {
          "output_type": "stream",
          "name": "stdout",
          "text": [
            "[10, 20, 30, 40]\n",
            "10\n",
            "[10, 20, 50, 40]\n"
          ]
        }
      ],
      "source": [
        "arr = [10, 20, 30, 40]\n",
        "print(arr)\n",
        "print(arr[0])  # 10\n",
        "arr[2] = 50\n",
        "print(arr)     # [10, 20, 50, 40]\n"
      ]
    },
    {
      "cell_type": "markdown",
      "source": [
        "---\n",
        "\n",
        "# -------------- Array Module -----------------\n",
        "## What is the array module in Python?\n",
        "\n",
        "- Python already has a built-in list data type, but lists can store mixed data types (like int, float, string, etc.), which makes them less memory-efficient.\n",
        "\n",
        "- If you need to store only one type of data (like all integers or all floats)  and want faster and smaller memory usage, you can use the array module.\n",
        "\n",
        "- So, array module provides a way to create typed arrays —> arrays that store only one type of element."
      ],
      "metadata": {
        "id": "TXvmxJR2bE4t"
      }
    },
    {
      "cell_type": "markdown",
      "source": [
        "---\n",
        "\n",
        "## Importing and Creating an Array\n",
        "\n",
        "\n",
        " Syntax :\n",
        "     \n",
        "    import array\n",
        "   \n",
        "    arr = array.array(typecode, [elements])\n",
        "\n",
        "- typecode → represents the type of elements you want to store (like i for integer, f for float, etc.)\n",
        "\n",
        "- elements → list of values you want to store in the array.\n",
        "\n",
        "### Common Typecodes\n",
        "\n",
        "| Typecode | Data Type        | Size (in bytes) |\n",
        "| -------- | ---------------- | --------------- |\n",
        "| `'b'`    | signed integer   | 1 byte          |\n",
        "| `'B'`    | unsigned integer | 1 byte          |\n",
        "| `'i'`    | signed integer   | 2 or 4 bytes    |\n",
        "| `'I'`    | unsigned integer | 2 or 4 bytes    |\n",
        "| `'f'`    | float            | 4 bytes         |\n",
        "| `'d'`    | double float     | 8 bytes         |\n"
      ],
      "metadata": {
        "id": "DN7Q23AdcM13"
      }
    },
    {
      "cell_type": "code",
      "source": [
        "import array\n",
        "\n",
        "arr = array.array('i', [10, 20, 30, 40])\n",
        "print(\"Array elements:\", arr)\n",
        "\n",
        "# Output:\n",
        "# Array elements: array('i', [10, 20, 30, 40])\n",
        "\n"
      ],
      "metadata": {
        "colab": {
          "base_uri": "https://localhost:8080/",
          "height": 0
        },
        "id": "5YLnPUgVcOxs",
        "outputId": "5507e1ff-2fbb-4a24-f952-d62e6192af5f"
      },
      "execution_count": 2,
      "outputs": [
        {
          "output_type": "stream",
          "name": "stdout",
          "text": [
            "Array elements: array('i', [10, 20, 30, 40])\n"
          ]
        }
      ]
    },
    {
      "cell_type": "code",
      "source": [
        "print(arr[0])   # 10\n",
        "print(arr[2])   # 30\n"
      ],
      "metadata": {
        "colab": {
          "base_uri": "https://localhost:8080/",
          "height": 0
        },
        "id": "qdLkU7AEdGw3",
        "outputId": "b903716b-10f8-4a34-984d-2a48cf87129f"
      },
      "execution_count": 3,
      "outputs": [
        {
          "output_type": "stream",
          "name": "stdout",
          "text": [
            "10\n",
            "30\n"
          ]
        }
      ]
    },
    {
      "cell_type": "code",
      "source": [
        "arr.append(50)       # Add element at end\n",
        "arr.insert(2, 25)    # Insert at position 2\n",
        "print(arr)           # array('i', [10, 20, 25, 30, 40, 50])\n",
        "\n",
        "arr.remove(25)       # Remove element by value\n",
        "arr.pop()            # Remove last element\n",
        "print(arr)           # array('i', [10, 20, 30, 40])\n"
      ],
      "metadata": {
        "colab": {
          "base_uri": "https://localhost:8080/",
          "height": 0
        },
        "id": "VjVcBtUXdG-_",
        "outputId": "bd497f6a-2bf2-4168-d15f-4d8e0d822eef"
      },
      "execution_count": 4,
      "outputs": [
        {
          "output_type": "stream",
          "name": "stdout",
          "text": [
            "array('i', [10, 20, 25, 30, 40, 50])\n",
            "array('i', [10, 20, 30, 40])\n"
          ]
        }
      ]
    },
    {
      "cell_type": "code",
      "source": [
        "for num in arr:\n",
        "    print(num, end=\" \")\n",
        "# Output: 10 20 30 40\n"
      ],
      "metadata": {
        "colab": {
          "base_uri": "https://localhost:8080/",
          "height": 0
        },
        "id": "6718ddGQdHFM",
        "outputId": "d21f9e1d-9e98-4a11-a834-a5e9c0c2aed6"
      },
      "execution_count": 5,
      "outputs": [
        {
          "output_type": "stream",
          "name": "stdout",
          "text": [
            "10 20 30 40 "
          ]
        }
      ]
    },
    {
      "cell_type": "code",
      "source": [
        "lst = arr.tolist()\n",
        "print(lst)   # [10, 20, 30, 40]\n"
      ],
      "metadata": {
        "colab": {
          "base_uri": "https://localhost:8080/",
          "height": 0
        },
        "id": "2Xu-8We7dHUE",
        "outputId": "0b968a46-1ab6-4028-ad06-7533a4e66e6d"
      },
      "execution_count": 6,
      "outputs": [
        {
          "output_type": "stream",
          "name": "stdout",
          "text": [
            "[10, 20, 30, 40]\n"
          ]
        }
      ]
    },
    {
      "cell_type": "markdown",
      "source": [
        "## Common Array Methods\n",
        "\n",
        "| **Method**         | **Description**                                             | **Example**                  |\n",
        "| ------------------ | ----------------------------------------------------------- | ---------------------------- |\n",
        "| `append(x)`        | Adds an element `x` to the end of the array.                | `arr.append(50)`             |\n",
        "| `insert(i, x)`     | Inserts element `x` at index `i`.                           | `arr.insert(2, 25)`          |\n",
        "| `extend(iterable)` | Appends elements from another iterable (like list/array).   | `arr.extend([60, 70])`       |\n",
        "| `remove(x)`        | Removes the first occurrence of element `x`.                | `arr.remove(20)`             |\n",
        "| `pop([i])`         | Removes and returns element at index `i` (last by default). | `arr.pop(2)`                 |\n",
        "| `index(x)`         | Returns the index of the first occurrence of `x`.           | `arr.index(30)`              |\n",
        "| `reverse()`        | Reverses the array in place.                                | `arr.reverse()`              |\n",
        "| `count(x)`         | Returns how many times `x` occurs.                          | `arr.count(10)`              |\n",
        "| `buffer_info()`    | Returns a tuple with memory info `(address, length)`.       | `arr.buffer_info()`          |\n",
        "| `typecode`         | Returns the typecode used for the array.                    | `arr.typecode`               |\n",
        "| `itemsize`         | Returns size in bytes of one array item.                    | `arr.itemsize`               |\n",
        "| `tolist()`         | Converts array to a normal Python list.                     | `arr.tolist()`               |\n",
        "| `fromlist(list)`   | Appends items from a list.                                  | `arr.fromlist([80, 90])`     |\n",
        "| `tobytes()`        | Converts array to bytes representation.                     | `arr.tobytes()`              |\n",
        "| `frombytes(bytes)` | Reads array items from a bytes object.                      | `arr.frombytes(b'\\x00\\x01')` |\n",
        "\n",
        "\n",
        "----\n"
      ],
      "metadata": {
        "id": "kpVlQjTbddhL"
      }
    },
    {
      "cell_type": "markdown",
      "source": [
        "## Key Differences between List and Array\n",
        "\n",
        "| Feature       | List                  | Array (from `array` module) |\n",
        "| ------------- | --------------------- | --------------------------- |\n",
        "| Data Type     | Can store mixed types | Only one data type          |\n",
        "| Memory        | Uses more memory      | Uses less memory            |\n",
        "| Speed         | Slightly slower       | Faster for numerical data   |\n",
        "| Type Checking | Not strict            | Strict type checking        |\n"
      ],
      "metadata": {
        "id": "I5RAm_Vdbvqy"
      }
    },
    {
      "cell_type": "markdown",
      "source": [
        "---\n",
        "\n",
        "# ----------- Numpy Array ------------\n",
        "\n",
        "## What is NumPy?\n",
        "\n",
        "- NumPy (Numerical Python) is a Python library used for scientific and numerical computation.\n",
        "\n",
        "- It provides a powerful object called ndarray (n-dimensional array) that is much faster and more memory efficient than Python’s built-in list or array module.\n",
        "\n",
        " ## Importing NumPy"
      ],
      "metadata": {
        "id": "n8MluGTBdowz"
      }
    },
    {
      "cell_type": "code",
      "source": [
        "import numpy as np\n"
      ],
      "metadata": {
        "id": "viY_b6oBbq2P"
      },
      "execution_count": 7,
      "outputs": []
    },
    {
      "cell_type": "markdown",
      "source": [
        "## What is a NumPy Array?\n",
        "\n",
        "- A NumPy array is a homogeneous collection of elements (all same type) arranged in n dimensions.\n",
        "\n",
        "- 1D → Vector\n",
        "\n",
        "- 2D → Matrix\n",
        "\n",
        "- 3D → Tensor\n",
        "\n"
      ],
      "metadata": {
        "id": "TwT_suH6ei0E"
      }
    },
    {
      "cell_type": "code",
      "source": [
        "import numpy as np\n",
        "\n",
        "arr = np.array([10, 20, 30, 40])\n",
        "print(arr)\n",
        "print(type(arr))\n"
      ],
      "metadata": {
        "colab": {
          "base_uri": "https://localhost:8080/",
          "height": 0
        },
        "id": "yQs9EnEpdq7-",
        "outputId": "916dbcdf-4b92-4a2d-f994-f504fa06c328"
      },
      "execution_count": 8,
      "outputs": [
        {
          "output_type": "stream",
          "name": "stdout",
          "text": [
            "[10 20 30 40]\n",
            "<class 'numpy.ndarray'>\n"
          ]
        }
      ]
    },
    {
      "cell_type": "markdown",
      "source": [
        "----\n",
        "\n",
        "## Ways to Create NumPy Arrays\n",
        "\n",
        "\n",
        "\n",
        "| **Method**                           | **Description**                 | **Example**                   |\n",
        "| ------------------------------------ | ------------------------------- | ----------------------------- |\n",
        "| `np.array()`                         | From list/tuple                 | `np.array([1,2,3])`           |\n",
        "| `np.zeros(shape)`                    | Array filled with 0s            | `np.zeros((2,3))`             |\n",
        "| `np.ones(shape)`                     | Array filled with 1s            | `np.ones((3,2))`              |\n",
        "| `np.full(shape, value)`              | Array filled with a given value | `np.full((2,2), 5)`           |\n",
        "| `np.eye(n)`                          | Identity matrix                 | `np.eye(3)`                   |\n",
        "| `np.arange(start, stop, step)`       | Like Python `range()`           | `np.arange(1, 10, 2)`         |\n",
        "| `np.linspace(start, stop, num)`      | Evenly spaced values            | `np.linspace(0, 1, 5)`        |\n",
        "| `np.random.rand(shape)`              | Random values (0–1)             | `np.random.rand(2,3)`         |\n",
        "| `np.random.randint(low, high, size)` | Random integers                 | `np.random.randint(1, 10, 5)` |\n",
        "\n",
        "\n",
        "\n",
        "\n"
      ],
      "metadata": {
        "id": "flOwwJJ3etm_"
      }
    },
    {
      "cell_type": "markdown",
      "source": [
        "----\n",
        "\n",
        "## Important Attributes of NumPy Arrays\n",
        "\n",
        "| **Attribute** | **Meaning**                    | **Example**    |\n",
        "| ------------- | ------------------------------ | -------------- |\n",
        "| `ndim`        | Number of dimensions           | `arr.ndim`     |\n",
        "| `shape`       | Size of each dimension         | `arr.shape`    |\n",
        "| `size`        | Total number of elements       | `arr.size`     |\n",
        "| `dtype`       | Data type of elements          | `arr.dtype`    |\n",
        "| `itemsize`    | Size (in bytes) of one element | `arr.itemsize` |\n",
        "| `nbytes`      | Total bytes consumed           | `arr.nbytes`   |\n"
      ],
      "metadata": {
        "id": "3RwhIROxe8C-"
      }
    },
    {
      "cell_type": "code",
      "source": [
        "a = np.array([[1,2,3],[4,5,6]])\n",
        "print(a.ndim)     # 2\n",
        "print(a.shape)    # (2, 3)\n",
        "print(a.size)     # 6\n",
        "print(a.dtype)    # int64 (depends on system)\n"
      ],
      "metadata": {
        "colab": {
          "base_uri": "https://localhost:8080/",
          "height": 0
        },
        "id": "X5-1mCkNdq_j",
        "outputId": "d963a61c-e5b6-4a19-a70b-bdbbc908c758"
      },
      "execution_count": 9,
      "outputs": [
        {
          "output_type": "stream",
          "name": "stdout",
          "text": [
            "2\n",
            "(2, 3)\n",
            "6\n",
            "int64\n"
          ]
        }
      ]
    },
    {
      "cell_type": "markdown",
      "source": [
        "## Array Operations\n",
        "\n",
        "- NumPy arrays support vectorized operations (element-wise).\n",
        "\n"
      ],
      "metadata": {
        "id": "F1E5hbywfCr8"
      }
    },
    {
      "cell_type": "code",
      "source": [
        "a = np.array([1, 2, 3])\n",
        "b = np.array([4, 5, 6])\n",
        "\n",
        "print(a + b)   # [5 7 9]\n",
        "print(a - b)   # [-3 -3 -3]\n",
        "print(a * b)   # [4 10 18]\n",
        "print(a / b)   # [0.25 0.4 0.5]\n",
        "print(a ** 2)  # [1 4 9]\n"
      ],
      "metadata": {
        "colab": {
          "base_uri": "https://localhost:8080/",
          "height": 0
        },
        "id": "rKV1wYhofKxo",
        "outputId": "957a1a00-2567-4365-ec01-903af56d3bde"
      },
      "execution_count": 10,
      "outputs": [
        {
          "output_type": "stream",
          "name": "stdout",
          "text": [
            "[5 7 9]\n",
            "[-3 -3 -3]\n",
            "[ 4 10 18]\n",
            "[0.25 0.4  0.5 ]\n",
            "[1 4 9]\n"
          ]
        }
      ]
    },
    {
      "cell_type": "markdown",
      "source": [
        "## Array Indexing and Slicing\n",
        "\n"
      ],
      "metadata": {
        "id": "Ui-h_8SsfN4S"
      }
    },
    {
      "cell_type": "code",
      "source": [
        "arr = np.array([10, 20, 30, 40, 50])\n",
        "\n",
        "print(arr[0])      # 10\n",
        "print(arr[-1])     # 50\n",
        "print(arr[1:4])    # [20 30 40]\n",
        "\n",
        "# 2D Array\n",
        "mat = np.array([[1,2,3],[4,5,6],[7,8,9]])\n",
        "print(mat[0, 1])   # 2\n",
        "print(mat[:, 1])   # [2 5 8]\n",
        "print(mat[1, :])   # [4 5 6]\n"
      ],
      "metadata": {
        "colab": {
          "base_uri": "https://localhost:8080/",
          "height": 0
        },
        "id": "J5f4o3S_fLQC",
        "outputId": "44470777-2ce0-4d08-a562-4c8df49c3952"
      },
      "execution_count": 11,
      "outputs": [
        {
          "output_type": "stream",
          "name": "stdout",
          "text": [
            "10\n",
            "50\n",
            "[20 30 40]\n",
            "2\n",
            "[2 5 8]\n",
            "[4 5 6]\n"
          ]
        }
      ]
    },
    {
      "cell_type": "markdown",
      "source": [
        "----\n",
        "\n",
        "## Reshaping and Flattening\n",
        "\n",
        "\n",
        "| **Method**       | **Description**                               | **Example**        |\n",
        "| ---------------- | --------------------------------------------- | ------------------ |\n",
        "| `reshape(shape)` | Change dimensions                             | `arr.reshape(2,3)` |\n",
        "| `flatten()`      | Convert to 1D                                 | `arr.flatten()`    |\n",
        "| `ravel()`        | Similar to flatten (returns view if possible) | `arr.ravel()`      |\n"
      ],
      "metadata": {
        "id": "p38Fj2aFfTl9"
      }
    },
    {
      "cell_type": "markdown",
      "source": [
        "----\n",
        "\n",
        "## Mathematical Functions\n",
        "\n",
        "| Function                             | Description             | Example        |\n",
        "| ------------------------------------ | ----------------------- | -------------- |\n",
        "| `np.min()` / `np.max()`              | Minimum / Maximum       | `np.max(arr)`  |\n",
        "| `np.sum()`                           | Sum of all elements     | `np.sum(arr)`  |\n",
        "| `np.mean()`                          | Average                 | `np.mean(arr)` |\n",
        "| `np.std()`                           | Standard deviation      | `np.std(arr)`  |\n",
        "| `np.sqrt()`                          | Square root             | `np.sqrt(arr)` |\n",
        "| `np.exp()`                           | Exponential             | `np.exp(arr)`  |\n",
        "| `np.log()`                           | Natural log             | `np.log(arr)`  |\n",
        "| `np.sin()` / `np.cos()` / `np.tan()` | Trigonometric functions | `np.sin(arr)`  |\n"
      ],
      "metadata": {
        "id": "vQmSJP2CfaEQ"
      }
    },
    {
      "cell_type": "markdown",
      "source": [
        "---\n",
        "\n",
        "## Array Manipulation Methods\n",
        "\n",
        "| Method                  | Description            |\n",
        "| ----------------------- | ---------------------- |\n",
        "| `np.concatenate((a,b))` | Join two arrays        |\n",
        "| `np.vstack((a,b))`      | Stack vertically       |\n",
        "| `np.hstack((a,b))`      | Stack horizontally     |\n",
        "| `np.split(arr, n)`      | Split array into parts |\n",
        "| `np.transpose(arr)`     | Transpose matrix       |\n",
        "| `np.sort(arr)`          | Sort elements          |\n",
        "| `np.unique(arr)`        | Find unique elements   |\n"
      ],
      "metadata": {
        "id": "eet36lyYff_4"
      }
    },
    {
      "cell_type": "code",
      "source": [
        "A = np.array([[1,2],[3,4]])\n",
        "B = np.array([[5,6],[7,8]])\n",
        "\n",
        "print(A.dot(B))       # Matrix multiplication\n",
        "print(np.transpose(A)) # Transpose\n",
        "print(np.linalg.inv(A)) # Inverse\n",
        "print(np.linalg.det(A)) # Determinant\n",
        "print(np.linalg.eig(A)) # Eigen values & vectors\n"
      ],
      "metadata": {
        "colab": {
          "base_uri": "https://localhost:8080/",
          "height": 0
        },
        "id": "X6a_twq5frYa",
        "outputId": "d1d7f3c4-f457-4813-bd52-032530f9a1f8"
      },
      "execution_count": 12,
      "outputs": [
        {
          "output_type": "stream",
          "name": "stdout",
          "text": [
            "[[19 22]\n",
            " [43 50]]\n",
            "[[1 3]\n",
            " [2 4]]\n",
            "[[-2.   1. ]\n",
            " [ 1.5 -0.5]]\n",
            "-2.0000000000000004\n",
            "EigResult(eigenvalues=array([-0.37228132,  5.37228132]), eigenvectors=array([[-0.82456484, -0.41597356],\n",
            "       [ 0.56576746, -0.90937671]]))\n"
          ]
        }
      ]
    },
    {
      "cell_type": "markdown",
      "source": [
        "----\n",
        "\n",
        "## Matrix Operations"
      ],
      "metadata": {
        "id": "cY4g1iGhfoqm"
      }
    },
    {
      "cell_type": "code",
      "source": [
        "A = np.array([[1,2],[3,4]])\n",
        "B = np.array([[5,6],[7,8]])\n",
        "\n",
        "print(A.dot(B))       # Matrix multiplication\n",
        "print(np.transpose(A)) # Transpose\n",
        "print(np.linalg.inv(A)) # Inverse\n",
        "print(np.linalg.det(A)) # Determinant\n",
        "print(np.linalg.eig(A)) # Eigen values & vectors\n"
      ],
      "metadata": {
        "colab": {
          "base_uri": "https://localhost:8080/",
          "height": 0
        },
        "id": "8lCFXSrRfv5-",
        "outputId": "4b55e511-54b9-4882-e80f-6dcda712fca0"
      },
      "execution_count": 13,
      "outputs": [
        {
          "output_type": "stream",
          "name": "stdout",
          "text": [
            "[[19 22]\n",
            " [43 50]]\n",
            "[[1 3]\n",
            " [2 4]]\n",
            "[[-2.   1. ]\n",
            " [ 1.5 -0.5]]\n",
            "-2.0000000000000004\n",
            "EigResult(eigenvalues=array([-0.37228132,  5.37228132]), eigenvectors=array([[-0.82456484, -0.41597356],\n",
            "       [ 0.56576746, -0.90937671]]))\n"
          ]
        }
      ]
    }
  ]
}